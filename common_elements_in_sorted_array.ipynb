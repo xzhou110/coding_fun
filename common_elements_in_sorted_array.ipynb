{
 "cells": [
  {
   "cell_type": "markdown",
   "metadata": {},
   "source": [
    "Write a function that returns the common elements between two sorted arrays of integers (ascending order). Complexity requirement: max(m, n)"
   ]
  },
  {
   "cell_type": "code",
   "execution_count": 1,
   "metadata": {
    "ExecuteTime": {
     "end_time": "2019-03-07T11:21:31.872448Z",
     "start_time": "2019-03-07T11:21:31.862219Z"
    }
   },
   "outputs": [],
   "source": [
    "# Complexity: m+n+ max(m,n)*log(max(m,n))\n",
    "\n",
    "def common_elements1(list1, list2):\n",
    "    result = []\n",
    "    dic1 = {}\n",
    "    dic2 = {}\n",
    "    \n",
    "    if len(list1) == 0 or len(list2) == 0:\n",
    "        return None\n",
    "    for i in list1:\n",
    "        if i not in dic1.keys():\n",
    "            dic1[i] = 1\n",
    "        else:\n",
    "            dic1[i]+=1\n",
    "    for i in list2:\n",
    "        if i not in dic2.keys():\n",
    "            dic2[i] = 1\n",
    "        else:\n",
    "            dic2[i]+=1\n",
    "        \n",
    "#     print(dic1)\n",
    "#     print(dic2)\n",
    "    intersect = set(dic1.keys()) & set(dic2.keys())\n",
    "    result = sorted(list(intersect))\n",
    "        \n",
    "    return result"
   ]
  },
  {
   "cell_type": "code",
   "execution_count": 2,
   "metadata": {
    "ExecuteTime": {
     "end_time": "2019-03-07T11:21:31.880556Z",
     "start_time": "2019-03-07T11:21:31.875222Z"
    }
   },
   "outputs": [],
   "source": [
    "# NOTE: The following input values will be used for testing your solution.\n",
    "list_a1 = [1, 3, 4, 6, 7, 9]\n",
    "list_a2 = [1, 2, 4, 5, 9, 10]\n",
    "# common_elements(list_a1, list_a2) should return [1, 4, 9] (a list).\n",
    "\n",
    "list_b1 = [1, 2, 9, 10, 11, 12]\n",
    "list_b2 = [0, 1, 2, 3, 4, 5, 8, 9, 10, 12, 14, 15]\n",
    "# common_elements(list_b1, list_b2) should return [1, 2, 9, 10, 12] (a list).\n",
    "\n",
    "list_c1 = [0, 1, 2, 3, 4, 5]\n",
    "list_c2 = [6, 7, 8, 9, 10, 11]\n",
    "# common_elements(list_b1, list_b2) should return [] (an empty list)."
   ]
  },
  {
   "cell_type": "code",
   "execution_count": 3,
   "metadata": {
    "ExecuteTime": {
     "end_time": "2019-03-07T11:21:31.893758Z",
     "start_time": "2019-03-07T11:21:31.884303Z"
    }
   },
   "outputs": [
    {
     "name": "stdout",
     "output_type": "stream",
     "text": [
      "[1, 4, 9]\n",
      "[1, 2, 9, 10, 12]\n",
      "[]\n"
     ]
    }
   ],
   "source": [
    "print(common_elements1(list_a1, list_a2))\n",
    "print(common_elements1(list_b1, list_b2))\n",
    "print(common_elements1(list_c1, list_c2))"
   ]
  },
  {
   "cell_type": "code",
   "execution_count": 4,
   "metadata": {
    "ExecuteTime": {
     "end_time": "2019-03-07T11:21:31.906980Z",
     "start_time": "2019-03-07T11:21:31.896662Z"
    }
   },
   "outputs": [],
   "source": [
    "# Complexity: max (m, n)\n",
    "def common_elements2(list1, list2):\n",
    "    result = []\n",
    "    \n",
    "    length = max(len(list1), len(list2))\n",
    "    \n",
    "    # list1_index and list2_index are pointers\n",
    "    list1_index = 0\n",
    "    list2_index = 0\n",
    "    \n",
    "    while list1_index < len(list1) and list2_index < len(list2):\n",
    "        if list1[list1_index] < list2[list2_index]:\n",
    "            list1_index+=1\n",
    "        elif list1[list1_index] > list2[list2_index]:\n",
    "            list2_index+=1\n",
    "        elif list1[list1_index] == list2[list2_index]:\n",
    "            result.append(list1[list1_index])\n",
    "            list1_index+=1\n",
    "            list2_index+=1\n",
    "    \n",
    "    return result"
   ]
  },
  {
   "cell_type": "code",
   "execution_count": 5,
   "metadata": {
    "ExecuteTime": {
     "end_time": "2019-03-07T11:21:31.919081Z",
     "start_time": "2019-03-07T11:21:31.910858Z"
    }
   },
   "outputs": [
    {
     "name": "stdout",
     "output_type": "stream",
     "text": [
      "[1, 4, 9]\n",
      "[1, 2, 9, 10, 12]\n",
      "[]\n"
     ]
    }
   ],
   "source": [
    "print(common_elements2(list_a1, list_a2))\n",
    "print(common_elements2(list_b1, list_b2))\n",
    "print(common_elements2(list_c1, list_c2))"
   ]
  },
  {
   "cell_type": "code",
   "execution_count": null,
   "metadata": {},
   "outputs": [],
   "source": []
  }
 ],
 "metadata": {
  "kernelspec": {
   "display_name": "Python 3",
   "language": "python",
   "name": "python3"
  },
  "language_info": {
   "codemirror_mode": {
    "name": "ipython",
    "version": 3
   },
   "file_extension": ".py",
   "mimetype": "text/x-python",
   "name": "python",
   "nbconvert_exporter": "python",
   "pygments_lexer": "ipython3",
   "version": "3.6.8"
  },
  "toc": {
   "base_numbering": 1,
   "nav_menu": {},
   "number_sections": true,
   "sideBar": true,
   "skip_h1_title": false,
   "title_cell": "Table of Contents",
   "title_sidebar": "Contents",
   "toc_cell": false,
   "toc_position": {},
   "toc_section_display": true,
   "toc_window_display": false
  },
  "varInspector": {
   "cols": {
    "lenName": 16,
    "lenType": 16,
    "lenVar": 40
   },
   "kernels_config": {
    "python": {
     "delete_cmd_postfix": "",
     "delete_cmd_prefix": "del ",
     "library": "var_list.py",
     "varRefreshCmd": "print(var_dic_list())"
    },
    "r": {
     "delete_cmd_postfix": ") ",
     "delete_cmd_prefix": "rm(",
     "library": "var_list.r",
     "varRefreshCmd": "cat(var_dic_list()) "
    }
   },
   "types_to_exclude": [
    "module",
    "function",
    "builtin_function_or_method",
    "instance",
    "_Feature"
   ],
   "window_display": false
  }
 },
 "nbformat": 4,
 "nbformat_minor": 2
}
