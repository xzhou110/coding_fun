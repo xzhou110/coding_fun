{
 "cells": [
  {
   "cell_type": "markdown",
   "metadata": {},
   "source": [
    "Find the lowest(level) common ancestor of two items in a binary tree\n",
    "Assumptions:\n",
    "- Each value in the tree is unique\n",
    "- Each node has at most 2 children, left and right\n",
    "- You don't have a level attribute in each of node\n",
    "- Each node has pointers to left and right children, but there is no back link"
   ]
  },
  {
   "cell_type": "code",
   "execution_count": 1,
   "metadata": {
    "ExecuteTime": {
     "end_time": "2020-09-19T08:09:08.506640Z",
     "start_time": "2020-09-19T08:09:08.495185Z"
    }
   },
   "outputs": [],
   "source": [
    "# Use this class to create binary trees.\n",
    "class Node:\n",
    "    def __init__(self, value, left=None, right=None):\n",
    "        self.value = value\n",
    "        self.left = left\n",
    "        self.right = right\n",
    "\n",
    "    def __str__(self):\n",
    "        return str(self.value)\n",
    "\n",
    "    # Overriding the equality operator.\n",
    "    # This will be used for testing your solution.\n",
    "    def __eq__(self, other):\n",
    "        if type(other) is type(self):\n",
    "            return self.value == other.value\n",
    "        return False"
   ]
  },
  {
   "cell_type": "code",
   "execution_count": 2,
   "metadata": {
    "ExecuteTime": {
     "end_time": "2020-09-19T08:09:10.783280Z",
     "start_time": "2020-09-19T08:09:10.774765Z"
    }
   },
   "outputs": [],
   "source": [
    "# A function for creating a tree.\n",
    "# Input:\n",
    "# - mapping: a node-to-node mapping that shows how the tree should be constructed\n",
    "# - head_value: the value that will be used for the head ndoe\n",
    "# Output:\n",
    "# - The head node of the resulting tree\n",
    "def create_tree(mapping, head_value):\n",
    "    head = Node(head_value)\n",
    "    nodes = {head_value: head}\n",
    "    for key, value in mapping.items():\n",
    "        nodes[value[0]] = Node(value[0])\n",
    "        nodes[value[1]] = Node(value[1])\n",
    "    for key, value in mapping.items():\n",
    "        nodes[key].left = nodes[value[0]]\n",
    "        nodes[key].right = nodes[value[1]]\n",
    "    return head\n",
    "\n",
    "\n",
    "# NOTE: The following values will be used for testing your solution.\n",
    "\n",
    "# The mapping we're going to use for constructing a tree.\n",
    "# {0: [1, 2]} means that 0's left child is 1, and its right\n",
    "# child is 2.\n",
    "mapping1 = {0: [1, 2], 1: [3, 4], 2: [5, 6]}\n",
    "head1 = create_tree(mapping1, 0)\n",
    "# This tree is:\n",
    "# head1 = 0\n",
    "#        / \\\n",
    "#       1   2\n",
    "#      /\\   /\\\n",
    "#     3  4 5  6\n",
    "\n",
    "\n",
    "mapping2 = {5: [1, 4], 1: [3, 8], 4: [9, 2], 3: [6, 7]}\n",
    "head2 = create_tree(mapping2, 5)\n",
    "# This tree is:\n",
    "#  head2 = 5\n",
    "#        /   \\\n",
    "#       1     4\n",
    "#      /\\    / \\\n",
    "#     3  8  9  2\n",
    "#    /\\\n",
    "#   6  7"
   ]
  },
  {
   "cell_type": "code",
   "execution_count": 3,
   "metadata": {
    "ExecuteTime": {
     "end_time": "2019-03-10T06:38:19.724791Z",
     "start_time": "2019-03-10T06:38:19.714611Z"
    }
   },
   "outputs": [],
   "source": [
    "def path_to_x(root, x):\n",
    "    # Base case\n",
    "    if root is None:\n",
    "        return None\n",
    "    if root.value == x: \n",
    "        return [root.value]\n",
    "    \n",
    "    # Create the graph/path to the point x\n",
    "    left_path = path_to_x(root.left, x)\n",
    "    if left_path:\n",
    "        left_path.append(root.value)\n",
    "        return left_path\n",
    "    \n",
    "    right_path = path_to_x(root.right, x)\n",
    "    if right_path:\n",
    "        right_path.append(root.value)\n",
    "        return right_path\n",
    "    \n",
    "    return None"
   ]
  },
  {
   "cell_type": "code",
   "execution_count": 7,
   "metadata": {
    "ExecuteTime": {
     "end_time": "2019-03-10T06:41:03.168870Z",
     "start_time": "2019-03-10T06:41:03.163649Z"
    }
   },
   "outputs": [],
   "source": [
    "# Implement your function below.\n",
    "def lca(root, j, k):\n",
    "    if (root is None) or (j is None) or (k is None):\n",
    "        return None    \n",
    "    if j == k:\n",
    "        return j \n",
    "    try: \n",
    "        path_to_j = path_to_x(root, j)\n",
    "        path_to_k = path_to_x(root, k)\n",
    "    except: \n",
    "        return None\n",
    "    \n",
    "    res = None\n",
    "    while path_to_j and path_to_k:\n",
    "        j_pop = path_to_j.pop()\n",
    "        k_pop = path_to_k.pop()\n",
    "        if j_pop == k_pop:\n",
    "            res = j_pop\n",
    "        else:\n",
    "            break\n",
    "    return res"
   ]
  },
  {
   "cell_type": "code",
   "execution_count": 5,
   "metadata": {
    "ExecuteTime": {
     "end_time": "2019-03-10T06:38:19.746767Z",
     "start_time": "2019-03-10T06:38:19.741709Z"
    }
   },
   "outputs": [],
   "source": [
    "# Testing cases:\n",
    "# lca(head1, 1, 5) should return 0\n",
    "# lca(head1, 3, 1) should return 1\n",
    "# lca(head1, 1, 4) should return 1\n",
    "# lca(head1, 0, 5) should return 0\n",
    "# lca(head2, 4, 7) should return 5\n",
    "# lca(head2, 3, 3) should return 3\n",
    "# lca(head2, 8, 7) should return 1\n",
    "# lca(head2, 3, 0) should return None (0 does not exist in the tree)"
   ]
  },
  {
   "cell_type": "code",
   "execution_count": 8,
   "metadata": {
    "ExecuteTime": {
     "end_time": "2019-03-10T06:41:06.016912Z",
     "start_time": "2019-03-10T06:41:06.011119Z"
    }
   },
   "outputs": [
    {
     "name": "stdout",
     "output_type": "stream",
     "text": [
      "0\n",
      "1\n",
      "1\n",
      "0\n",
      "5\n",
      "3\n",
      "1\n",
      "None\n"
     ]
    }
   ],
   "source": [
    "print(lca(head1, 1, 5))\n",
    "print(lca(head1, 3, 1))\n",
    "print(lca(head1, 1, 4))\n",
    "print(lca(head1, 0, 5))\n",
    "print(lca(head2, 4, 7))\n",
    "print(lca(head2, 3, 3))\n",
    "print(lca(head2, 8, 7))\n",
    "print(lca(head2, 3, 0))"
   ]
  },
  {
   "cell_type": "code",
   "execution_count": 18,
   "metadata": {
    "ExecuteTime": {
     "end_time": "2020-09-19T09:06:57.444747Z",
     "start_time": "2020-09-19T09:06:57.438577Z"
    }
   },
   "outputs": [],
   "source": [
    "# practice \n",
    "def path(root, j):\n",
    "\n",
    "    if root is None:\n",
    "        return None\n",
    "    elif root.value==j:\n",
    "        return [root.value]\n",
    "    \n",
    "    left_path = path(root.left, j)\n",
    "    if left_path:\n",
    "        left_path.append(root.value)\n",
    "        return left_path\n",
    "    \n",
    "    right_path = path(root.right, j)\n",
    "    if right_path:\n",
    "        right_path.append(root.value)\n",
    "        return right_path\n",
    "   \n",
    "    return None    \n"
   ]
  },
  {
   "cell_type": "code",
   "execution_count": 25,
   "metadata": {
    "ExecuteTime": {
     "end_time": "2020-09-19T09:09:39.773097Z",
     "start_time": "2020-09-19T09:09:39.765392Z"
    }
   },
   "outputs": [],
   "source": [
    "# practice\n",
    "\n",
    "def lca2(root, j, k):\n",
    "    if (root is None) or (j is None) or (k is None):\n",
    "        return None\n",
    "    \n",
    "    path_j = path(root, j)\n",
    "    path_k = path(root, k)\n",
    "#     print(path_j, path_k)\n",
    "    \n",
    "    if (path_j is None) or (path_k is None):\n",
    "        return None\n",
    "    else:\n",
    "        common_lis = []\n",
    "\n",
    "        for l in range(len(path_j)):\n",
    "            for m in range(len(path_k)):\n",
    "                if path_j[l]== path_k[m]:\n",
    "                    common_lis.append(path_j[l])\n",
    "        return common_lis[0]\n",
    "            "
   ]
  },
  {
   "cell_type": "code",
   "execution_count": 26,
   "metadata": {
    "ExecuteTime": {
     "end_time": "2020-09-19T09:09:40.256828Z",
     "start_time": "2020-09-19T09:09:40.245269Z"
    }
   },
   "outputs": [
    {
     "name": "stdout",
     "output_type": "stream",
     "text": [
      "[1, 0] [5, 2, 0]\n",
      "0\n",
      "[3, 1, 0] [1, 0]\n",
      "1\n",
      "[1, 0] [4, 1, 0]\n",
      "1\n",
      "[0] [5, 2, 0]\n",
      "0\n",
      "[4, 5] [7, 3, 1, 5]\n",
      "5\n",
      "[3, 1, 5] [3, 1, 5]\n",
      "3\n",
      "[8, 1, 5] [7, 3, 1, 5]\n",
      "1\n",
      "[3, 1, 5] None\n",
      "None\n"
     ]
    }
   ],
   "source": [
    "print(lca2(head1, 1, 5))\n",
    "print(lca2(head1, 3, 1))\n",
    "print(lca2(head1, 1, 4))\n",
    "print(lca2(head1, 0, 5))\n",
    "print(lca2(head2, 4, 7))\n",
    "print(lca2(head2, 3, 3))\n",
    "print(lca2(head2, 8, 7))\n",
    "print(lca2(head2, 3, 0))"
   ]
  },
  {
   "cell_type": "code",
   "execution_count": null,
   "metadata": {},
   "outputs": [],
   "source": []
  }
 ],
 "metadata": {
  "kernelspec": {
   "display_name": "Python 3",
   "language": "python",
   "name": "python3"
  },
  "language_info": {
   "codemirror_mode": {
    "name": "ipython",
    "version": 3
   },
   "file_extension": ".py",
   "mimetype": "text/x-python",
   "name": "python",
   "nbconvert_exporter": "python",
   "pygments_lexer": "ipython3",
   "version": "3.6.8"
  },
  "toc": {
   "base_numbering": 1,
   "nav_menu": {},
   "number_sections": true,
   "sideBar": true,
   "skip_h1_title": false,
   "title_cell": "Table of Contents",
   "title_sidebar": "Contents",
   "toc_cell": false,
   "toc_position": {},
   "toc_section_display": true,
   "toc_window_display": false
  },
  "varInspector": {
   "cols": {
    "lenName": 16,
    "lenType": 16,
    "lenVar": 40
   },
   "kernels_config": {
    "python": {
     "delete_cmd_postfix": "",
     "delete_cmd_prefix": "del ",
     "library": "var_list.py",
     "varRefreshCmd": "print(var_dic_list())"
    },
    "r": {
     "delete_cmd_postfix": ") ",
     "delete_cmd_prefix": "rm(",
     "library": "var_list.r",
     "varRefreshCmd": "cat(var_dic_list()) "
    }
   },
   "types_to_exclude": [
    "module",
    "function",
    "builtin_function_or_method",
    "instance",
    "_Feature"
   ],
   "window_display": false
  }
 },
 "nbformat": 4,
 "nbformat_minor": 2
}
