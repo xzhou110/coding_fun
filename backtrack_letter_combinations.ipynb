{
 "cells": [
  {
   "cell_type": "markdown",
   "metadata": {},
   "source": [
    "Given a string containing digits from 2-9 inclusive, return all possible letter combinations that the number could represent.\n",
    "\n",
    "A mapping of digit to letters (just like on the telephone buttons) is given below. Note that 1 does not map to any letters."
   ]
  },
  {
   "cell_type": "code",
   "execution_count": 20,
   "metadata": {
    "ExecuteTime": {
     "end_time": "2019-12-01T01:58:29.621959Z",
     "start_time": "2019-12-01T01:58:29.618238Z"
    }
   },
   "outputs": [],
   "source": [
    "def backtrack(combos, next_digits, dic, res):\n",
    "    if len(next_digits) == 0:\n",
    "        res.append(combos)\n",
    "    else:\n",
    "        # The first letter of next_digits\n",
    "        for letter in dic[next_digits[0]]:\n",
    "            print(combos+letter)\n",
    "            backtrack(combos + letter, next_digits[1:], dic, res)\n",
    "    return res"
   ]
  },
  {
   "cell_type": "code",
   "execution_count": 17,
   "metadata": {
    "ExecuteTime": {
     "end_time": "2019-12-01T01:58:08.783414Z",
     "start_time": "2019-12-01T01:58:08.777708Z"
    }
   },
   "outputs": [],
   "source": [
    "def letterCombinations(digits):\n",
    "    \"\"\"\n",
    "    :type digits: str\n",
    "    :rtype: List[str]\n",
    "    \"\"\"\n",
    "    if len(digits) == 0:\n",
    "        return None\n",
    "\n",
    "    dic = {'2': ['a', 'b', 'c'],\n",
    "           '3': ['d', 'e', 'f'],\n",
    "           '4': ['g', 'h', 'i'],\n",
    "           '5': ['j', 'k', 'l'],\n",
    "           '6': ['m', 'n', 'o'],\n",
    "           '7': ['p', 'q', 'r', 's'],\n",
    "           '8': ['t', 'u', 'v'],\n",
    "           '9': ['w', 'x', 'y', 'z']}\n",
    "\n",
    "    res = []\n",
    "    backtrack('', digits, dic, res)\n",
    "    print (res)"
   ]
  },
  {
   "cell_type": "code",
   "execution_count": 21,
   "metadata": {
    "ExecuteTime": {
     "end_time": "2019-12-01T01:58:34.592677Z",
     "start_time": "2019-12-01T01:58:34.588477Z"
    }
   },
   "outputs": [
    {
     "name": "stdout",
     "output_type": "stream",
     "text": [
      "a\n",
      "ad\n",
      "ae\n",
      "af\n",
      "b\n",
      "bd\n",
      "be\n",
      "bf\n",
      "c\n",
      "cd\n",
      "ce\n",
      "cf\n",
      "['ad', 'ae', 'af', 'bd', 'be', 'bf', 'cd', 'ce', 'cf']\n"
     ]
    }
   ],
   "source": [
    "letterCombinations('23')"
   ]
  },
  {
   "cell_type": "code",
   "execution_count": 22,
   "metadata": {
    "ExecuteTime": {
     "end_time": "2019-12-01T01:58:38.003966Z",
     "start_time": "2019-12-01T01:58:37.987347Z"
    }
   },
   "outputs": [
    {
     "name": "stdout",
     "output_type": "stream",
     "text": [
      "d\n",
      "dg\n",
      "dgj\n",
      "dgjm\n",
      "dgjn\n",
      "dgjo\n",
      "dgk\n",
      "dgkm\n",
      "dgkn\n",
      "dgko\n",
      "dgl\n",
      "dglm\n",
      "dgln\n",
      "dglo\n",
      "dh\n",
      "dhj\n",
      "dhjm\n",
      "dhjn\n",
      "dhjo\n",
      "dhk\n",
      "dhkm\n",
      "dhkn\n",
      "dhko\n",
      "dhl\n",
      "dhlm\n",
      "dhln\n",
      "dhlo\n",
      "di\n",
      "dij\n",
      "dijm\n",
      "dijn\n",
      "dijo\n",
      "dik\n",
      "dikm\n",
      "dikn\n",
      "diko\n",
      "dil\n",
      "dilm\n",
      "diln\n",
      "dilo\n",
      "e\n",
      "eg\n",
      "egj\n",
      "egjm\n",
      "egjn\n",
      "egjo\n",
      "egk\n",
      "egkm\n",
      "egkn\n",
      "egko\n",
      "egl\n",
      "eglm\n",
      "egln\n",
      "eglo\n",
      "eh\n",
      "ehj\n",
      "ehjm\n",
      "ehjn\n",
      "ehjo\n",
      "ehk\n",
      "ehkm\n",
      "ehkn\n",
      "ehko\n",
      "ehl\n",
      "ehlm\n",
      "ehln\n",
      "ehlo\n",
      "ei\n",
      "eij\n",
      "eijm\n",
      "eijn\n",
      "eijo\n",
      "eik\n",
      "eikm\n",
      "eikn\n",
      "eiko\n",
      "eil\n",
      "eilm\n",
      "eiln\n",
      "eilo\n",
      "f\n",
      "fg\n",
      "fgj\n",
      "fgjm\n",
      "fgjn\n",
      "fgjo\n",
      "fgk\n",
      "fgkm\n",
      "fgkn\n",
      "fgko\n",
      "fgl\n",
      "fglm\n",
      "fgln\n",
      "fglo\n",
      "fh\n",
      "fhj\n",
      "fhjm\n",
      "fhjn\n",
      "fhjo\n",
      "fhk\n",
      "fhkm\n",
      "fhkn\n",
      "fhko\n",
      "fhl\n",
      "fhlm\n",
      "fhln\n",
      "fhlo\n",
      "fi\n",
      "fij\n",
      "fijm\n",
      "fijn\n",
      "fijo\n",
      "fik\n",
      "fikm\n",
      "fikn\n",
      "fiko\n",
      "fil\n",
      "film\n",
      "filn\n",
      "filo\n",
      "['dgjm', 'dgjn', 'dgjo', 'dgkm', 'dgkn', 'dgko', 'dglm', 'dgln', 'dglo', 'dhjm', 'dhjn', 'dhjo', 'dhkm', 'dhkn', 'dhko', 'dhlm', 'dhln', 'dhlo', 'dijm', 'dijn', 'dijo', 'dikm', 'dikn', 'diko', 'dilm', 'diln', 'dilo', 'egjm', 'egjn', 'egjo', 'egkm', 'egkn', 'egko', 'eglm', 'egln', 'eglo', 'ehjm', 'ehjn', 'ehjo', 'ehkm', 'ehkn', 'ehko', 'ehlm', 'ehln', 'ehlo', 'eijm', 'eijn', 'eijo', 'eikm', 'eikn', 'eiko', 'eilm', 'eiln', 'eilo', 'fgjm', 'fgjn', 'fgjo', 'fgkm', 'fgkn', 'fgko', 'fglm', 'fgln', 'fglo', 'fhjm', 'fhjn', 'fhjo', 'fhkm', 'fhkn', 'fhko', 'fhlm', 'fhln', 'fhlo', 'fijm', 'fijn', 'fijo', 'fikm', 'fikn', 'fiko', 'film', 'filn', 'filo']\n"
     ]
    }
   ],
   "source": [
    "letterCombinations('3456')"
   ]
  },
  {
   "cell_type": "code",
   "execution_count": null,
   "metadata": {},
   "outputs": [],
   "source": []
  }
 ],
 "metadata": {
  "kernelspec": {
   "display_name": "Python 3",
   "language": "python",
   "name": "python3"
  },
  "language_info": {
   "codemirror_mode": {
    "name": "ipython",
    "version": 3
   },
   "file_extension": ".py",
   "mimetype": "text/x-python",
   "name": "python",
   "nbconvert_exporter": "python",
   "pygments_lexer": "ipython3",
   "version": "3.7.3"
  },
  "toc": {
   "base_numbering": 1,
   "nav_menu": {},
   "number_sections": true,
   "sideBar": true,
   "skip_h1_title": false,
   "title_cell": "Table of Contents",
   "title_sidebar": "Contents",
   "toc_cell": false,
   "toc_position": {},
   "toc_section_display": true,
   "toc_window_display": false
  },
  "varInspector": {
   "cols": {
    "lenName": 16,
    "lenType": 16,
    "lenVar": 40
   },
   "kernels_config": {
    "python": {
     "delete_cmd_postfix": "",
     "delete_cmd_prefix": "del ",
     "library": "var_list.py",
     "varRefreshCmd": "print(var_dic_list())"
    },
    "r": {
     "delete_cmd_postfix": ") ",
     "delete_cmd_prefix": "rm(",
     "library": "var_list.r",
     "varRefreshCmd": "cat(var_dic_list()) "
    }
   },
   "types_to_exclude": [
    "module",
    "function",
    "builtin_function_or_method",
    "instance",
    "_Feature"
   ],
   "window_display": false
  }
 },
 "nbformat": 4,
 "nbformat_minor": 2
}
