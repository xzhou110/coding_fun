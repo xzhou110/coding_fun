{
 "cells": [
  {
   "cell_type": "markdown",
   "metadata": {},
   "source": [
    "Implement a function that taks a square 2D array (# columns = # rows) and roate it by 90 degrees."
   ]
  },
  {
   "cell_type": "code",
   "execution_count": 1,
   "metadata": {
    "ExecuteTime": {
     "end_time": "2020-09-17T08:11:56.722567Z",
     "start_time": "2020-09-17T08:11:56.716041Z"
    }
   },
   "outputs": [],
   "source": [
    "import copy"
   ]
  },
  {
   "cell_type": "code",
   "execution_count": 2,
   "metadata": {
    "ExecuteTime": {
     "end_time": "2020-09-17T08:11:57.090688Z",
     "start_time": "2020-09-17T08:11:57.083006Z"
    }
   },
   "outputs": [],
   "source": [
    "# Approach #1: Out of Place solution\n",
    "# n = # rows = # columns in the given 2d array\n",
    "def rotate1(given_array, n):\n",
    "    if n == 0:\n",
    "        return []\n",
    "    else:\n",
    "        res = []\n",
    "        for i in range(n):\n",
    "            column = [row[i] for row in given_array]\n",
    "            column.sort(reverse=True)\n",
    "            res.append(column)\n",
    "\n",
    "        return res\n",
    "\n",
    "\n",
    "# NOTE: Feel free to use the following function for testing.\n",
    "# It converts a 2-dimensional array (a list of lists) into\n",
    "# an easy-to-read string format.\n",
    "def to_string(given_array):\n",
    "    list_rows = []\n",
    "    for row in given_array:\n",
    "        list_rows.append(str(row))\n",
    "    return '[' + ',\\n '.join(list_rows) + ']'"
   ]
  },
  {
   "cell_type": "code",
   "execution_count": 3,
   "metadata": {
    "ExecuteTime": {
     "end_time": "2020-09-17T08:11:57.485645Z",
     "start_time": "2020-09-17T08:11:57.476053Z"
    }
   },
   "outputs": [],
   "source": [
    "# Testing cases:\n",
    "# NOTE: The following input values will be used for testing your solution.\n",
    "a1 = [[1, 2, 3],\n",
    "      [4, 5, 6],\n",
    "      [7, 8, 9]]\n",
    "# rotate(a1, 3) should return:\n",
    "# [[7, 4, 1],\n",
    "#  [8, 5, 2],\n",
    "#  [9, 6, 3]]\n",
    "\n",
    "a2 = [[1, 2, 3, 4],\n",
    "      [5, 6, 7, 8],\n",
    "      [9, 10, 11, 12],\n",
    "      [13, 14, 15, 16]]\n",
    "# rotate(a2, 4) should return:\n",
    "# [[13, 9, 5, 1],\n",
    "#  [14, 10, 6, 2],\n",
    "#  [15, 11, 7, 3],\n",
    "#  [16, 12, 8, 4]]"
   ]
  },
  {
   "cell_type": "code",
   "execution_count": 4,
   "metadata": {
    "ExecuteTime": {
     "end_time": "2020-09-17T08:11:57.958885Z",
     "start_time": "2020-09-17T08:11:57.952777Z"
    }
   },
   "outputs": [
    {
     "name": "stdout",
     "output_type": "stream",
     "text": [
      "[[7, 4, 1], [8, 5, 2], [9, 6, 3]]\n",
      "[[13, 9, 5, 1], [14, 10, 6, 2], [15, 11, 7, 3], [16, 12, 8, 4]]\n"
     ]
    }
   ],
   "source": [
    "print(rotate1(a1, 3))\n",
    "print(rotate1(a2, 4))"
   ]
  },
  {
   "cell_type": "code",
   "execution_count": 5,
   "metadata": {
    "ExecuteTime": {
     "end_time": "2020-09-17T08:11:58.411523Z",
     "start_time": "2020-09-17T08:11:58.404321Z"
    }
   },
   "outputs": [],
   "source": [
    "# Pattern identified: x, y swapped, and then y becomes n-1-y\n",
    "# 0, 0 -> 0, 2\n",
    "# 1, 0 -> 0, 1\n",
    "# 2, 0 -> 0, 0\n",
    "\n",
    "# 0, 1 -> 1, 2\n",
    "# 1, 1 -> 1, 1\n",
    "# 2, 1 -> 1, 0\n",
    "\n",
    "# Out of place \n",
    "def rotate2(given_array, n):\n",
    "    if n == 0:\n",
    "        return []\n",
    "    \n",
    "    rotated = copy.deepcopy(given_array)\n",
    "    \n",
    "    for i in range(n):\n",
    "        for j in range(n):\n",
    "            given_array[j][n-1-i] = rotated [i][j]\n",
    "    return given_array"
   ]
  },
  {
   "cell_type": "code",
   "execution_count": 6,
   "metadata": {
    "ExecuteTime": {
     "end_time": "2020-09-17T08:12:00.163878Z",
     "start_time": "2020-09-17T08:12:00.155684Z"
    }
   },
   "outputs": [
    {
     "name": "stdout",
     "output_type": "stream",
     "text": [
      "[[7, 4, 1], [8, 5, 2], [9, 6, 3]]\n",
      "[[13, 9, 5, 1], [14, 10, 6, 2], [15, 11, 7, 3], [16, 12, 8, 4]]\n"
     ]
    }
   ],
   "source": [
    "print(rotate2(a1, 3))\n",
    "print(rotate2(a2, 4))"
   ]
  },
  {
   "cell_type": "code",
   "execution_count": 8,
   "metadata": {
    "ExecuteTime": {
     "end_time": "2020-09-17T08:12:22.972843Z",
     "start_time": "2020-09-17T08:12:22.956461Z"
    }
   },
   "outputs": [],
   "source": [
    "# Testing cases:\n",
    "# NOTE: The following input values will be used for testing your solution.\n",
    "a1 = [[1, 2, 3],\n",
    "      [4, 5, 6],\n",
    "      [7, 8, 9]]\n",
    "# rotate(a1, 3) should return:\n",
    "# [[7, 4, 1],\n",
    "#  [8, 5, 2],\n",
    "#  [9, 6, 3]]\n",
    "\n",
    "a2 = [[1, 2, 3, 4],\n",
    "      [5, 6, 7, 8],\n",
    "      [9, 10, 11, 12],\n",
    "      [13, 14, 15, 16]]\n",
    "# rotate(a2, 4) should return:\n",
    "# [[13, 9, 5, 1],\n",
    "#  [14, 10, 6, 2],\n",
    "#  [15, 11, 7, 3],\n",
    "#  [16, 12, 8, 4]]\n"
   ]
  },
  {
   "cell_type": "code",
   "execution_count": 9,
   "metadata": {
    "ExecuteTime": {
     "end_time": "2020-09-17T08:12:25.246375Z",
     "start_time": "2020-09-17T08:12:25.237176Z"
    }
   },
   "outputs": [
    {
     "data": {
      "text/plain": [
       "[[1, 2, 3], [4, 5, 6], [7, 8, 9]]"
      ]
     },
     "execution_count": 9,
     "metadata": {},
     "output_type": "execute_result"
    }
   ],
   "source": [
    "a1"
   ]
  },
  {
   "cell_type": "code",
   "execution_count": 11,
   "metadata": {
    "ExecuteTime": {
     "end_time": "2020-09-17T08:13:55.014373Z",
     "start_time": "2020-09-17T08:13:55.008299Z"
    }
   },
   "outputs": [],
   "source": [
    "a3 = [[1, 2, 3],\n",
    "      [4, 5, 6]]"
   ]
  },
  {
   "cell_type": "code",
   "execution_count": 13,
   "metadata": {
    "ExecuteTime": {
     "end_time": "2020-09-17T08:14:50.498579Z",
     "start_time": "2020-09-17T08:14:50.489696Z"
    }
   },
   "outputs": [
    {
     "data": {
      "text/plain": [
       "3"
      ]
     },
     "execution_count": 13,
     "metadata": {},
     "output_type": "execute_result"
    }
   ],
   "source": [
    "len(a3[0])"
   ]
  },
  {
   "cell_type": "code",
   "execution_count": null,
   "metadata": {},
   "outputs": [],
   "source": []
  },
  {
   "cell_type": "code",
   "execution_count": 18,
   "metadata": {
    "ExecuteTime": {
     "end_time": "2020-09-17T08:27:10.477390Z",
     "start_time": "2020-09-17T08:27:10.470403Z"
    }
   },
   "outputs": [],
   "source": [
    "# out of place practice\n",
    "def rotate3(given_array, n):\n",
    "    num_row = len(given_array)\n",
    "    num_col = len(given_array[0])\n",
    "    res = np.zeros([num_col, num_row]).tolist()\n",
    "    \n",
    "    for i in range (num_row):\n",
    "        for j in range (num_col):\n",
    "            res[j][n-1-i] = given_array[i][j]\n",
    "    return res"
   ]
  },
  {
   "cell_type": "code",
   "execution_count": 19,
   "metadata": {
    "ExecuteTime": {
     "end_time": "2020-09-17T08:27:29.150373Z",
     "start_time": "2020-09-17T08:27:29.143462Z"
    }
   },
   "outputs": [
    {
     "name": "stdout",
     "output_type": "stream",
     "text": [
      "[[7, 4, 1], [8, 5, 2], [9, 6, 3]]\n",
      "[[13, 9, 5, 1], [14, 10, 6, 2], [15, 11, 7, 3], [16, 12, 8, 4]]\n"
     ]
    }
   ],
   "source": [
    "print(rotate3(a1, 3))\n",
    "print(rotate3(a2, 4))"
   ]
  },
  {
   "cell_type": "code",
   "execution_count": null,
   "metadata": {},
   "outputs": [],
   "source": []
  }
 ],
 "metadata": {
  "kernelspec": {
   "display_name": "Python 3",
   "language": "python",
   "name": "python3"
  },
  "language_info": {
   "codemirror_mode": {
    "name": "ipython",
    "version": 3
   },
   "file_extension": ".py",
   "mimetype": "text/x-python",
   "name": "python",
   "nbconvert_exporter": "python",
   "pygments_lexer": "ipython3",
   "version": "3.6.8"
  },
  "toc": {
   "base_numbering": 1,
   "nav_menu": {},
   "number_sections": true,
   "sideBar": true,
   "skip_h1_title": false,
   "title_cell": "Table of Contents",
   "title_sidebar": "Contents",
   "toc_cell": false,
   "toc_position": {},
   "toc_section_display": true,
   "toc_window_display": false
  },
  "varInspector": {
   "cols": {
    "lenName": 16,
    "lenType": 16,
    "lenVar": 40
   },
   "kernels_config": {
    "python": {
     "delete_cmd_postfix": "",
     "delete_cmd_prefix": "del ",
     "library": "var_list.py",
     "varRefreshCmd": "print(var_dic_list())"
    },
    "r": {
     "delete_cmd_postfix": ") ",
     "delete_cmd_prefix": "rm(",
     "library": "var_list.r",
     "varRefreshCmd": "cat(var_dic_list()) "
    }
   },
   "types_to_exclude": [
    "module",
    "function",
    "builtin_function_or_method",
    "instance",
    "_Feature"
   ],
   "window_display": false
  }
 },
 "nbformat": 4,
 "nbformat_minor": 2
}
