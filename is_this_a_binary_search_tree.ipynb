{
 "cells": [
  {
   "cell_type": "markdown",
   "metadata": {
    "ExecuteTime": {
     "end_time": "2019-03-09T07:55:35.395918Z",
     "start_time": "2019-03-09T07:55:35.389076Z"
    }
   },
   "source": [
    "Write a function that takes a binary tree and returns true if it's a binary search tree, and false if not. <p>\n",
    "Every child on left is smaller than root, and every child on right is bigger than rooter"
   ]
  },
  {
   "cell_type": "code",
   "execution_count": 1,
   "metadata": {
    "ExecuteTime": {
     "end_time": "2019-03-09T07:56:08.391943Z",
     "start_time": "2019-03-09T07:56:08.374451Z"
    }
   },
   "outputs": [],
   "source": [
    "class Node:\n",
    "    def __init__(self, value, left=None, right=None):\n",
    "        self.value = value\n",
    "        self.left = left\n",
    "        self.right = right\n",
    "\n",
    "    def __str__(self):\n",
    "        return str(self.value)\n",
    "\n",
    "\n",
    "# Implement your function below.\n",
    "def is_bst(node, lower_lim=None, upper_lim=None):\n",
    "    if lower_lim!=None and node.value < lower_lim:\n",
    "        return False\n",
    "    if upper_lim!=None and node.value > upper_lim:\n",
    "        return False\n",
    "    \n",
    "    is_left_bst = True\n",
    "    is_right_bst = True\n",
    "    \n",
    "    if node.left:\n",
    "        is_left_bst = is_bst(node.left, lower_lim = lower_lim, upper_lim=node.value)\n",
    "    if node.right:\n",
    "        is_right_bst = is_bst(node.right, lower_lim=node.value, upper_lim = upper_lim)\n",
    "    \n",
    "    return (is_left_bst and is_right_bst)"
   ]
  },
  {
   "cell_type": "code",
   "execution_count": 2,
   "metadata": {
    "ExecuteTime": {
     "end_time": "2019-03-09T07:56:08.412269Z",
     "start_time": "2019-03-09T07:56:08.400252Z"
    }
   },
   "outputs": [],
   "source": [
    "# A function for creating a tree.\n",
    "# Input:\n",
    "# - mapping: a node-to-node mapping that shows how the tree should be constructed\n",
    "# - head_value: the value that will be used for the head ndoe\n",
    "# Output:\n",
    "# - The head node of the resulting tree\n",
    "def create_tree(mapping, head_value):\n",
    "    head = Node(head_value)\n",
    "    nodes = {head_value: head}\n",
    "    for key, value in mapping.items():\n",
    "        nodes[value[0]] = Node(value[0])\n",
    "        nodes[value[1]] = Node(value[1])\n",
    "    for key, value in mapping.items():\n",
    "        nodes[key].left = nodes[value[0]]\n",
    "        nodes[key].right = nodes[value[1]]\n",
    "    return head\n",
    "\n",
    "\n",
    "# NOTE: The following values will be used for testing your solution.\n",
    "\n",
    "# The mapping we're going to use for constructing a tree.\n",
    "# {0: [1, 2]} means that 0's left child is 1, and its right\n",
    "# child is 2.\n",
    "mapping1 = {0: [1, 2], 1: [3, 4], 2: [5, 6]}\n",
    "mapping2 = {3: [1, 4], 1: [0, 2], 4: [5, 6]}\n",
    "mapping3 = {3: [1, 5], 1: [0, 2], 5: [4, 6]}\n",
    "mapping4 = {3: [1, 5], 1: [0, 4]}\n",
    "head1 = create_tree(mapping1, 0)\n",
    "# This tree is:\n",
    "#  head1 = 0\n",
    "#        /   \\\n",
    "#       1     2\n",
    "#      /\\    / \\\n",
    "#     3  4  5   6\n",
    "head2 = create_tree(mapping2, 3)\n",
    "# This tree is:\n",
    "#  head2 = 3\n",
    "#        /   \\\n",
    "#       1     4\n",
    "#      /\\    / \\\n",
    "#     0  2  5   6\n",
    "head3 = create_tree(mapping3, 3)\n",
    "# This tree is:\n",
    "#  head3 = 3\n",
    "#        /   \\\n",
    "#       1     5\n",
    "#      /\\    / \\\n",
    "#     0  2  4   6\n",
    "head4 = create_tree(mapping4, 3)\n",
    "# This tree is:\n",
    "#  head4 = 3\n",
    "#        /   \\\n",
    "#       1     5\n",
    "#      /\\\n",
    "#     0  4\n",
    "\n",
    "# is_bst(head1) should return False\n",
    "# is_bst(head2) should return False\n",
    "# is_bst(head3) should return True\n",
    "# is_bst(head4) should return False"
   ]
  },
  {
   "cell_type": "code",
   "execution_count": 3,
   "metadata": {
    "ExecuteTime": {
     "end_time": "2019-03-09T07:56:08.422454Z",
     "start_time": "2019-03-09T07:56:08.416722Z"
    }
   },
   "outputs": [
    {
     "name": "stdout",
     "output_type": "stream",
     "text": [
      "False\n",
      "False\n",
      "True\n",
      "False\n"
     ]
    }
   ],
   "source": [
    "print(is_bst(head1)) \n",
    "print(is_bst(head2)) \n",
    "print(is_bst(head3))\n",
    "print(is_bst(head4)) "
   ]
  }
 ],
 "metadata": {
  "kernelspec": {
   "display_name": "Python 3",
   "language": "python",
   "name": "python3"
  },
  "language_info": {
   "codemirror_mode": {
    "name": "ipython",
    "version": 3
   },
   "file_extension": ".py",
   "mimetype": "text/x-python",
   "name": "python",
   "nbconvert_exporter": "python",
   "pygments_lexer": "ipython3",
   "version": "3.6.8"
  },
  "toc": {
   "base_numbering": 1,
   "nav_menu": {},
   "number_sections": true,
   "sideBar": true,
   "skip_h1_title": false,
   "title_cell": "Table of Contents",
   "title_sidebar": "Contents",
   "toc_cell": false,
   "toc_position": {},
   "toc_section_display": true,
   "toc_window_display": false
  },
  "varInspector": {
   "cols": {
    "lenName": 16,
    "lenType": 16,
    "lenVar": 40
   },
   "kernels_config": {
    "python": {
     "delete_cmd_postfix": "",
     "delete_cmd_prefix": "del ",
     "library": "var_list.py",
     "varRefreshCmd": "print(var_dic_list())"
    },
    "r": {
     "delete_cmd_postfix": ") ",
     "delete_cmd_prefix": "rm(",
     "library": "var_list.r",
     "varRefreshCmd": "cat(var_dic_list()) "
    }
   },
   "types_to_exclude": [
    "module",
    "function",
    "builtin_function_or_method",
    "instance",
    "_Feature"
   ],
   "window_display": false
  }
 },
 "nbformat": 4,
 "nbformat_minor": 2
}
