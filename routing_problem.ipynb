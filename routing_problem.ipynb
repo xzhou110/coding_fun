{
 "cells": [
  {
   "cell_type": "code",
   "execution_count": 1,
   "metadata": {
    "ExecuteTime": {
     "end_time": "2019-02-26T10:06:21.607123Z",
     "start_time": "2019-02-26T10:06:21.392440Z"
    }
   },
   "outputs": [],
   "source": [
    "import numpy as np\n",
    "from collections import defaultdict"
   ]
  },
  {
   "cell_type": "code",
   "execution_count": 2,
   "metadata": {
    "ExecuteTime": {
     "end_time": "2019-02-26T10:06:21.613998Z",
     "start_time": "2019-02-26T10:06:21.609174Z"
    }
   },
   "outputs": [
    {
     "name": "stdout",
     "output_type": "stream",
     "text": [
      "[[1 1 0 0]\n",
      " [1 0 0 1]\n",
      " [1 1 1 1]\n",
      " [0 0 1 1]]\n"
     ]
    }
   ],
   "source": [
    "# 1 means acessible. 0 means not inaccessible\n",
    "\n",
    "floor = np.array([[1, 1, 0, 0], [1, 0, 0, 1], [1, 1, 1, 1], [0, 0, 1, 1]])\n",
    "print (floor)"
   ]
  },
  {
   "cell_type": "code",
   "execution_count": 3,
   "metadata": {
    "ExecuteTime": {
     "end_time": "2019-02-26T10:06:21.623371Z",
     "start_time": "2019-02-26T10:06:21.617841Z"
    }
   },
   "outputs": [],
   "source": [
    "def test_neighbours(array, i, j):\n",
    "    '''\n",
    "    The function is to find out neigbhours that are assessible \n",
    "    Input: array - numpy array, i - index, j - index\n",
    "    Return: neighbours that are accessible - list of tuples\n",
    "    ''' \n",
    "    good_neighbours = []\n",
    "    neighbours = [[i-1, j], [i+1, j], [i, j-1], [i, j+1]]\n",
    "    for vertex in neighbours:\n",
    "        if test_vertex(array, vertex[0], vertex[1]):\n",
    "            good_neighbours.append((vertex[0], vertex[1]))\n",
    "    return good_neighbours"
   ]
  },
  {
   "cell_type": "code",
   "execution_count": 4,
   "metadata": {
    "ExecuteTime": {
     "end_time": "2019-02-26T10:06:21.632685Z",
     "start_time": "2019-02-26T10:06:21.626710Z"
    }
   },
   "outputs": [],
   "source": [
    "def test_vertex (array, i, j):\n",
    "    '''\n",
    "    The function is to find out whether a specific vertex is assessible \n",
    "    Input: array - numpy array, i - index, j - index\n",
    "    Return: true or false\n",
    "    ''' \n",
    "    height = array.shape[0]\n",
    "    width = array.shape [1]\n",
    "    if 0<=i<height:\n",
    "        if 0<=j< width:\n",
    "            if array[i][j] == 1:\n",
    "                return 1\n",
    "    return 0"
   ]
  },
  {
   "cell_type": "code",
   "execution_count": 5,
   "metadata": {
    "ExecuteTime": {
     "end_time": "2019-02-26T10:06:21.645575Z",
     "start_time": "2019-02-26T10:06:21.638332Z"
    }
   },
   "outputs": [],
   "source": [
    "def create_graph(array):\n",
    "    '''\n",
    "    This is to create graph for further analysis\n",
    "    Input: array - numpy array\n",
    "    Return: list of all coordinates in arrary with their accessible neighbours\n",
    "    '''\n",
    "    height = array.shape[0]\n",
    "    width = array.shape [1]\n",
    "    graph_ = defaultdict(set)\n",
    "    for i in range (0, height):\n",
    "        for j in range (0, width):\n",
    "            graph_[(i, j)] = test_neighbours(array, i, j)\n",
    "    return graph_"
   ]
  },
  {
   "cell_type": "code",
   "execution_count": 9,
   "metadata": {
    "ExecuteTime": {
     "end_time": "2019-02-26T10:48:21.453416Z",
     "start_time": "2019-02-26T10:48:21.432395Z"
    }
   },
   "outputs": [],
   "source": [
    "def identify_route(array, starting_point, ending_point):\n",
    "    '''\n",
    "    This is to identify route from starting point to ending point\n",
    "    Input: array - numpy array, starting_point - coordinate as tuple, \n",
    "           ending_point - coordinate as tuple,\n",
    "    Return: route from starting point to ending point - list of tuples\n",
    "    '''\n",
    "    \n",
    "    visited = []\n",
    "    route = []\n",
    "\n",
    "    stack = [starting_point]\n",
    "    height = floor.shape[0]\n",
    "    width = floor.shape [1]\n",
    "\n",
    "    while stack:\n",
    "        node = stack.pop()\n",
    "        visited.append(node)\n",
    "        route.append(node)\n",
    "        if node == ending_point:\n",
    "            return route\n",
    "        else:\n",
    "            for sub_node in graph[node]: \n",
    "                if sub_node not in visited:\n",
    "                    visited.append(sub_node)\n",
    "                    stack.append(sub_node)\n",
    "    return 'No route available'"
   ]
  },
  {
   "cell_type": "code",
   "execution_count": 10,
   "metadata": {
    "ExecuteTime": {
     "end_time": "2019-02-26T10:48:23.131814Z",
     "start_time": "2019-02-26T10:48:23.122695Z"
    }
   },
   "outputs": [
    {
     "data": {
      "text/plain": [
       "defaultdict(set,\n",
       "            {(0, 0): [(1, 0), (0, 1)],\n",
       "             (0, 1): [(0, 0)],\n",
       "             (0, 2): [(0, 1)],\n",
       "             (0, 3): [(1, 3)],\n",
       "             (1, 0): [(0, 0), (2, 0)],\n",
       "             (1, 1): [(0, 1), (2, 1), (1, 0)],\n",
       "             (1, 2): [(2, 2), (1, 3)],\n",
       "             (1, 3): [(2, 3)],\n",
       "             (2, 0): [(1, 0), (2, 1)],\n",
       "             (2, 1): [(2, 0), (2, 2)],\n",
       "             (2, 2): [(3, 2), (2, 1), (2, 3)],\n",
       "             (2, 3): [(1, 3), (3, 3), (2, 2)],\n",
       "             (3, 0): [(2, 0)],\n",
       "             (3, 1): [(2, 1), (3, 2)],\n",
       "             (3, 2): [(2, 2), (3, 3)],\n",
       "             (3, 3): [(2, 3), (3, 2)]})"
      ]
     },
     "execution_count": 10,
     "metadata": {},
     "output_type": "execute_result"
    }
   ],
   "source": [
    "graph = defaultdict(set)\n",
    "graph = create_graph(floor)\n",
    "graph"
   ]
  },
  {
   "cell_type": "code",
   "execution_count": 11,
   "metadata": {
    "ExecuteTime": {
     "end_time": "2019-02-26T10:48:23.951074Z",
     "start_time": "2019-02-26T10:48:23.946490Z"
    }
   },
   "outputs": [
    {
     "name": "stdout",
     "output_type": "stream",
     "text": [
      "[(0, 0), (0, 1), (1, 0), (2, 0), (2, 1), (2, 2), (2, 3), (3, 3)]\n"
     ]
    }
   ],
   "source": [
    "route = identify_route(floor, (0,0), (3,3))\n",
    "print(route)"
   ]
  },
  {
   "cell_type": "code",
   "execution_count": null,
   "metadata": {},
   "outputs": [],
   "source": []
  }
 ],
 "metadata": {
  "kernelspec": {
   "display_name": "Python 3",
   "language": "python",
   "name": "python3"
  },
  "language_info": {
   "codemirror_mode": {
    "name": "ipython",
    "version": 3
   },
   "file_extension": ".py",
   "mimetype": "text/x-python",
   "name": "python",
   "nbconvert_exporter": "python",
   "pygments_lexer": "ipython3",
   "version": "3.6.8"
  },
  "toc": {
   "base_numbering": 1,
   "nav_menu": {},
   "number_sections": true,
   "sideBar": true,
   "skip_h1_title": false,
   "title_cell": "Table of Contents",
   "title_sidebar": "Contents",
   "toc_cell": false,
   "toc_position": {},
   "toc_section_display": true,
   "toc_window_display": false
  },
  "varInspector": {
   "cols": {
    "lenName": 16,
    "lenType": 16,
    "lenVar": 40
   },
   "kernels_config": {
    "python": {
     "delete_cmd_postfix": "",
     "delete_cmd_prefix": "del ",
     "library": "var_list.py",
     "varRefreshCmd": "print(var_dic_list())"
    },
    "r": {
     "delete_cmd_postfix": ") ",
     "delete_cmd_prefix": "rm(",
     "library": "var_list.r",
     "varRefreshCmd": "cat(var_dic_list()) "
    }
   },
   "types_to_exclude": [
    "module",
    "function",
    "builtin_function_or_method",
    "instance",
    "_Feature"
   ],
   "window_display": false
  }
 },
 "nbformat": 4,
 "nbformat_minor": 2
}
