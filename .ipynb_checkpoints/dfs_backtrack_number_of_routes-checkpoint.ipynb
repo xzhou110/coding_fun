{
 "cells": [
  {
   "cell_type": "code",
   "execution_count": 23,
   "metadata": {
    "ExecuteTime": {
     "end_time": "2019-03-25T05:57:55.255685Z",
     "start_time": "2019-03-25T05:57:55.252504Z"
    }
   },
   "outputs": [],
   "source": [
    "import numpy as np\n",
    "from collections import defaultdict"
   ]
  },
  {
   "cell_type": "code",
   "execution_count": 24,
   "metadata": {
    "ExecuteTime": {
     "end_time": "2019-03-25T05:57:55.583985Z",
     "start_time": "2019-03-25T05:57:55.578267Z"
    }
   },
   "outputs": [
    {
     "name": "stdout",
     "output_type": "stream",
     "text": [
      "[[1 1 0 0]\n",
      " [1 0 0 1]\n",
      " [1 1 1 1]\n",
      " [0 0 1 1]]\n"
     ]
    }
   ],
   "source": [
    "# 1 means acessible. 0 means not inaccessible\n",
    "\n",
    "floor = np.array([[1, 1, 0, 0], [1, 0, 0, 1], [1, 1, 1, 1], [0, 0, 1, 1]])\n",
    "print (floor)"
   ]
  },
  {
   "cell_type": "code",
   "execution_count": 25,
   "metadata": {
    "ExecuteTime": {
     "end_time": "2019-03-25T05:57:56.079162Z",
     "start_time": "2019-03-25T05:57:56.074089Z"
    }
   },
   "outputs": [],
   "source": [
    "# Approach #2: more concise approach\n",
    "\n",
    "def generate_graph(matrix):\n",
    "    '''\n",
    "    Simplified approach to generate graph\n",
    "    '''\n",
    "    height = matrix.shape[0]\n",
    "    width = matrix.shape[1]\n",
    "    graph = defaultdict(set)\n",
    "    for i in range(height):\n",
    "        for j in range(width):\n",
    "            neighbours = [[i, j-1], [i, j+1], [i-1, j], [i+1, j]]\n",
    "            for k in neighbours:\n",
    "                if 0<=k[0]<height and 0<=k[1]<width:\n",
    "                    if matrix[k[0]][k[1]] == 1:\n",
    "                        graph[(i, j)].add((k[0],k[1]))\n",
    "    return graph"
   ]
  },
  {
   "cell_type": "code",
   "execution_count": 26,
   "metadata": {
    "ExecuteTime": {
     "end_time": "2019-03-25T05:57:56.657145Z",
     "start_time": "2019-03-25T05:57:56.651580Z"
    }
   },
   "outputs": [],
   "source": [
    "def identify_route(graph, start_point, end_point):\n",
    "    visited = set()\n",
    "    route = set()\n",
    "    stack = []\n",
    "    stack.append(start_point)\n",
    "    \n",
    "    while stack:\n",
    "        curr_vertex = stack.pop()\n",
    "        visited.add(curr_vertex)\n",
    "        route.add(curr_vertex)\n",
    "        if curr_vertex == end_point:\n",
    "            break\n",
    "        for vertex in graph[curr_vertex]:\n",
    "            if vertex not in visited:\n",
    "                stack.append(vertex)\n",
    "    return route"
   ]
  },
  {
   "cell_type": "code",
   "execution_count": 104,
   "metadata": {
    "ExecuteTime": {
     "end_time": "2019-03-25T06:28:04.132412Z",
     "start_time": "2019-03-25T06:28:04.127436Z"
    }
   },
   "outputs": [],
   "source": [
    "def all_routes(route, next_vertex, end_vertex, graph, res):\n",
    "    # route keeps track of single route\n",
    "    # res keeps tracks of all routes\n",
    "    \n",
    "    if next_vertex == end_vertex:\n",
    "        res.append(route)\n",
    "        return res\n",
    "#     elif len(next_vertex) == 0 and :\n",
    "#         return res\n",
    "    else:\n",
    "        for vertex in graph[next_vertex]:\n",
    "            if vertex not in route:\n",
    "                route.append(vertex)\n",
    "                all_routes(route, vertex, end_vertex, graph, res)\n",
    "    return res"
   ]
  },
  {
   "cell_type": "code",
   "execution_count": 105,
   "metadata": {
    "ExecuteTime": {
     "end_time": "2019-03-25T06:28:04.475577Z",
     "start_time": "2019-03-25T06:28:04.465766Z"
    }
   },
   "outputs": [
    {
     "data": {
      "text/plain": [
       "defaultdict(set,\n",
       "            {(0, 0): {(0, 1), (1, 0)},\n",
       "             (0, 1): {(0, 0)},\n",
       "             (0, 2): {(0, 1)},\n",
       "             (0, 3): {(1, 3)},\n",
       "             (1, 0): {(0, 0), (2, 0)},\n",
       "             (1, 1): {(0, 1), (1, 0), (2, 1)},\n",
       "             (1, 2): {(1, 3), (2, 2)},\n",
       "             (1, 3): {(2, 3)},\n",
       "             (2, 0): {(1, 0), (2, 1)},\n",
       "             (2, 1): {(2, 0), (2, 2)},\n",
       "             (2, 2): {(2, 1), (2, 3), (3, 2)},\n",
       "             (2, 3): {(1, 3), (2, 2), (3, 3)},\n",
       "             (3, 0): {(2, 0)},\n",
       "             (3, 1): {(2, 1), (3, 2)},\n",
       "             (3, 2): {(2, 2), (3, 3)},\n",
       "             (3, 3): {(2, 3), (3, 2)}})"
      ]
     },
     "execution_count": 105,
     "metadata": {},
     "output_type": "execute_result"
    }
   ],
   "source": [
    "graph = generate_graph(floor)\n",
    "graph"
   ]
  },
  {
   "cell_type": "code",
   "execution_count": 106,
   "metadata": {
    "ExecuteTime": {
     "end_time": "2019-03-25T06:28:04.915633Z",
     "start_time": "2019-03-25T06:28:04.908684Z"
    }
   },
   "outputs": [
    {
     "data": {
      "text/plain": [
       "{(0, 0), (1, 0), (2, 0), (2, 1), (2, 2), (2, 3), (3, 3)}"
      ]
     },
     "execution_count": 106,
     "metadata": {},
     "output_type": "execute_result"
    }
   ],
   "source": [
    "identify_route(graph, (0,0), (3,3))"
   ]
  },
  {
   "cell_type": "code",
   "execution_count": 107,
   "metadata": {
    "ExecuteTime": {
     "end_time": "2019-03-25T06:28:05.452402Z",
     "start_time": "2019-03-25T06:28:05.445569Z"
    }
   },
   "outputs": [
    {
     "data": {
      "text/plain": [
       "[[(0, 0),\n",
       "  (0, 1),\n",
       "  (1, 0),\n",
       "  (2, 0),\n",
       "  (2, 1),\n",
       "  (2, 2),\n",
       "  (3, 2),\n",
       "  (3, 3),\n",
       "  (2, 3),\n",
       "  (1, 3)]]"
      ]
     },
     "execution_count": 107,
     "metadata": {},
     "output_type": "execute_result"
    }
   ],
   "source": [
    "route = []\n",
    "res = []\n",
    "route.append((0,0))\n",
    "\n",
    "all_routes(route, (0,0), (3,3),graph, res)"
   ]
  },
  {
   "cell_type": "code",
   "execution_count": null,
   "metadata": {},
   "outputs": [],
   "source": []
  }
 ],
 "metadata": {
  "kernelspec": {
   "display_name": "Python 3",
   "language": "python",
   "name": "python3"
  },
  "language_info": {
   "codemirror_mode": {
    "name": "ipython",
    "version": 3
   },
   "file_extension": ".py",
   "mimetype": "text/x-python",
   "name": "python",
   "nbconvert_exporter": "python",
   "pygments_lexer": "ipython3",
   "version": "3.6.8"
  },
  "toc": {
   "base_numbering": 1,
   "nav_menu": {},
   "number_sections": true,
   "sideBar": true,
   "skip_h1_title": false,
   "title_cell": "Table of Contents",
   "title_sidebar": "Contents",
   "toc_cell": false,
   "toc_position": {},
   "toc_section_display": true,
   "toc_window_display": false
  },
  "varInspector": {
   "cols": {
    "lenName": 16,
    "lenType": 16,
    "lenVar": 40
   },
   "kernels_config": {
    "python": {
     "delete_cmd_postfix": "",
     "delete_cmd_prefix": "del ",
     "library": "var_list.py",
     "varRefreshCmd": "print(var_dic_list())"
    },
    "r": {
     "delete_cmd_postfix": ") ",
     "delete_cmd_prefix": "rm(",
     "library": "var_list.r",
     "varRefreshCmd": "cat(var_dic_list()) "
    }
   },
   "types_to_exclude": [
    "module",
    "function",
    "builtin_function_or_method",
    "instance",
    "_Feature"
   ],
   "window_display": false
  }
 },
 "nbformat": 4,
 "nbformat_minor": 2
}
