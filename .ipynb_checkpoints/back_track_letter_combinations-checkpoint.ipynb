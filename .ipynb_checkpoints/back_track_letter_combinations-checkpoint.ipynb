{
 "cells": [
  {
   "cell_type": "markdown",
   "metadata": {},
   "source": [
    "Given a string containing digits from 2-9 inclusive, return all possible letter combinations that the number could represent.\n",
    "\n",
    "A mapping of digit to letters (just like on the telephone buttons) is given below. Note that 1 does not map to any letters."
   ]
  },
  {
   "cell_type": "code",
   "execution_count": 1,
   "metadata": {
    "ExecuteTime": {
     "end_time": "2019-03-25T05:20:09.907570Z",
     "start_time": "2019-03-25T05:20:09.900453Z"
    }
   },
   "outputs": [],
   "source": [
    "def backtrack(combos, next_digits, dic, res):\n",
    "    if len(next_digits) == 0:\n",
    "        res.append(combos)\n",
    "    else:\n",
    "        # The first letter of next_digits\n",
    "        for letter in dic[next_digits[0]]:\n",
    "            backtrack(combos + letter, next_digits[1:], dic, res)\n",
    "    return res"
   ]
  },
  {
   "cell_type": "code",
   "execution_count": 2,
   "metadata": {
    "ExecuteTime": {
     "end_time": "2019-03-25T05:20:09.927988Z",
     "start_time": "2019-03-25T05:20:09.911637Z"
    }
   },
   "outputs": [],
   "source": [
    "def letterCombinations(digits):\n",
    "    \"\"\"\n",
    "    :type digits: str\n",
    "    :rtype: List[str]\n",
    "    \"\"\"\n",
    "    if len(digits) == 0:\n",
    "        return None\n",
    "\n",
    "    dic = {'2': ['a', 'b', 'c'],\n",
    "           '3': ['d', 'e', 'f'],\n",
    "           '4': ['g', 'h', 'i'],\n",
    "           '5': ['j', 'k', 'l'],\n",
    "           '6': ['m', 'n', 'o'],\n",
    "           '7': ['p', 'q', 'r', 's'],\n",
    "           '8': ['t', 'u', 'v'],\n",
    "           '9': ['w', 'x', 'y', 'z']}\n",
    "\n",
    "    res = []\n",
    "    backtrack('', digits, dic, res)\n",
    "    print (res)"
   ]
  },
  {
   "cell_type": "code",
   "execution_count": 3,
   "metadata": {
    "ExecuteTime": {
     "end_time": "2019-03-25T05:20:09.939915Z",
     "start_time": "2019-03-25T05:20:09.934135Z"
    }
   },
   "outputs": [
    {
     "name": "stdout",
     "output_type": "stream",
     "text": [
      "['ad', 'ae', 'af', 'bd', 'be', 'bf', 'cd', 'ce', 'cf']\n"
     ]
    }
   ],
   "source": [
    "letterCombinations('23')"
   ]
  },
  {
   "cell_type": "code",
   "execution_count": 4,
   "metadata": {
    "ExecuteTime": {
     "end_time": "2019-03-25T05:20:09.949395Z",
     "start_time": "2019-03-25T05:20:09.943912Z"
    }
   },
   "outputs": [
    {
     "name": "stdout",
     "output_type": "stream",
     "text": [
      "['dgjm', 'dgjn', 'dgjo', 'dgkm', 'dgkn', 'dgko', 'dglm', 'dgln', 'dglo', 'dhjm', 'dhjn', 'dhjo', 'dhkm', 'dhkn', 'dhko', 'dhlm', 'dhln', 'dhlo', 'dijm', 'dijn', 'dijo', 'dikm', 'dikn', 'diko', 'dilm', 'diln', 'dilo', 'egjm', 'egjn', 'egjo', 'egkm', 'egkn', 'egko', 'eglm', 'egln', 'eglo', 'ehjm', 'ehjn', 'ehjo', 'ehkm', 'ehkn', 'ehko', 'ehlm', 'ehln', 'ehlo', 'eijm', 'eijn', 'eijo', 'eikm', 'eikn', 'eiko', 'eilm', 'eiln', 'eilo', 'fgjm', 'fgjn', 'fgjo', 'fgkm', 'fgkn', 'fgko', 'fglm', 'fgln', 'fglo', 'fhjm', 'fhjn', 'fhjo', 'fhkm', 'fhkn', 'fhko', 'fhlm', 'fhln', 'fhlo', 'fijm', 'fijn', 'fijo', 'fikm', 'fikn', 'fiko', 'film', 'filn', 'filo']\n"
     ]
    }
   ],
   "source": [
    "letterCombinations('3456')"
   ]
  }
 ],
 "metadata": {
  "kernelspec": {
   "display_name": "Python 3",
   "language": "python",
   "name": "python3"
  },
  "language_info": {
   "codemirror_mode": {
    "name": "ipython",
    "version": 3
   },
   "file_extension": ".py",
   "mimetype": "text/x-python",
   "name": "python",
   "nbconvert_exporter": "python",
   "pygments_lexer": "ipython3",
   "version": "3.6.8"
  },
  "toc": {
   "base_numbering": 1,
   "nav_menu": {},
   "number_sections": true,
   "sideBar": true,
   "skip_h1_title": false,
   "title_cell": "Table of Contents",
   "title_sidebar": "Contents",
   "toc_cell": false,
   "toc_position": {},
   "toc_section_display": true,
   "toc_window_display": false
  },
  "varInspector": {
   "cols": {
    "lenName": 16,
    "lenType": 16,
    "lenVar": 40
   },
   "kernels_config": {
    "python": {
     "delete_cmd_postfix": "",
     "delete_cmd_prefix": "del ",
     "library": "var_list.py",
     "varRefreshCmd": "print(var_dic_list())"
    },
    "r": {
     "delete_cmd_postfix": ") ",
     "delete_cmd_prefix": "rm(",
     "library": "var_list.r",
     "varRefreshCmd": "cat(var_dic_list()) "
    }
   },
   "types_to_exclude": [
    "module",
    "function",
    "builtin_function_or_method",
    "instance",
    "_Feature"
   ],
   "window_display": false
  }
 },
 "nbformat": 4,
 "nbformat_minor": 2
}
