{
 "cells": [
  {
   "cell_type": "markdown",
   "metadata": {},
   "source": [
    "Implement a function that taks a square 2D array (# columns = # rows) and roate it by 90 degrees."
   ]
  },
  {
   "cell_type": "code",
   "execution_count": 1,
   "metadata": {
    "ExecuteTime": {
     "end_time": "2019-03-10T04:24:07.490161Z",
     "start_time": "2019-03-10T04:24:07.486804Z"
    }
   },
   "outputs": [],
   "source": [
    "import copy"
   ]
  },
  {
   "cell_type": "code",
   "execution_count": 2,
   "metadata": {
    "ExecuteTime": {
     "end_time": "2019-03-10T04:24:07.503382Z",
     "start_time": "2019-03-10T04:24:07.493259Z"
    }
   },
   "outputs": [],
   "source": [
    "# Approach #1: Out of Place solution\n",
    "# n = # rows = # columns in the given 2d array\n",
    "def rotate1(given_array, n):\n",
    "    if n == 0:\n",
    "        return []\n",
    "    else:\n",
    "        res = []\n",
    "        for i in range(n):\n",
    "            column = [row[i] for row in given_array]\n",
    "            column.sort(reverse=True)\n",
    "            res.append(column)\n",
    "\n",
    "        return res\n",
    "\n",
    "\n",
    "# NOTE: Feel free to use the following function for testing.\n",
    "# It converts a 2-dimensional array (a list of lists) into\n",
    "# an easy-to-read string format.\n",
    "def to_string(given_array):\n",
    "    list_rows = []\n",
    "    for row in given_array:\n",
    "        list_rows.append(str(row))\n",
    "    return '[' + ',\\n '.join(list_rows) + ']'"
   ]
  },
  {
   "cell_type": "code",
   "execution_count": 3,
   "metadata": {
    "ExecuteTime": {
     "end_time": "2019-03-10T04:24:07.515356Z",
     "start_time": "2019-03-10T04:24:07.507029Z"
    }
   },
   "outputs": [],
   "source": [
    "# Testing cases:\n",
    "# NOTE: The following input values will be used for testing your solution.\n",
    "a1 = [[1, 2, 3],\n",
    "      [4, 5, 6],\n",
    "      [7, 8, 9]]\n",
    "# rotate(a1, 3) should return:\n",
    "# [[7, 4, 1],\n",
    "#  [8, 5, 2],\n",
    "#  [9, 6, 3]]\n",
    "\n",
    "a2 = [[1, 2, 3, 4],\n",
    "      [5, 6, 7, 8],\n",
    "      [9, 10, 11, 12],\n",
    "      [13, 14, 15, 16]]\n",
    "# rotate(a2, 4) should return:\n",
    "# [[13, 9, 5, 1],\n",
    "#  [14, 10, 6, 2],\n",
    "#  [15, 11, 7, 3],\n",
    "#  [16, 12, 8, 4]]"
   ]
  },
  {
   "cell_type": "code",
   "execution_count": 4,
   "metadata": {
    "ExecuteTime": {
     "end_time": "2019-03-10T04:24:07.529947Z",
     "start_time": "2019-03-10T04:24:07.520753Z"
    }
   },
   "outputs": [
    {
     "name": "stdout",
     "output_type": "stream",
     "text": [
      "[[7, 4, 1], [8, 5, 2], [9, 6, 3]]\n",
      "[[13, 9, 5, 1], [14, 10, 6, 2], [15, 11, 7, 3], [16, 12, 8, 4]]\n"
     ]
    }
   ],
   "source": [
    "print(rotate1(a1, 3))\n",
    "print(rotate1(a2, 4))"
   ]
  },
  {
   "cell_type": "code",
   "execution_count": 5,
   "metadata": {
    "ExecuteTime": {
     "end_time": "2019-03-10T04:24:07.539896Z",
     "start_time": "2019-03-10T04:24:07.533499Z"
    }
   },
   "outputs": [],
   "source": [
    "# Pattern identified: x, y swapped, and then y becomes n-1-y\n",
    "# 0, 0 -> 0, 2\n",
    "# 1, 0 -> 0, 1\n",
    "# 2, 0 -> 0, 0\n",
    "\n",
    "# 0, 1 -> 1, 2\n",
    "# 1, 1 -> 1, 1\n",
    "# 2, 1 -> 1, 0\n",
    "\n",
    "def rotate2(given_array, n):\n",
    "    if n == 0:\n",
    "        return []\n",
    "    \n",
    "    rotated = copy.deepcopy(given_array)\n",
    "    \n",
    "    for i in range(n):\n",
    "        for j in range(n):\n",
    "            given_array[j][n-1-i] = rotated [i][j]\n",
    "    return given_array"
   ]
  },
  {
   "cell_type": "code",
   "execution_count": 6,
   "metadata": {
    "ExecuteTime": {
     "end_time": "2019-03-10T04:24:07.548768Z",
     "start_time": "2019-03-10T04:24:07.542907Z"
    }
   },
   "outputs": [
    {
     "name": "stdout",
     "output_type": "stream",
     "text": [
      "[[7, 4, 1], [8, 5, 2], [9, 6, 3]]\n",
      "[[13, 9, 5, 1], [14, 10, 6, 2], [15, 11, 7, 3], [16, 12, 8, 4]]\n"
     ]
    }
   ],
   "source": [
    "print(rotate2(a1, 3))\n",
    "print(rotate2(a2, 4))"
   ]
  }
 ],
 "metadata": {
  "kernelspec": {
   "display_name": "Python 3",
   "language": "python",
   "name": "python3"
  },
  "language_info": {
   "codemirror_mode": {
    "name": "ipython",
    "version": 3
   },
   "file_extension": ".py",
   "mimetype": "text/x-python",
   "name": "python",
   "nbconvert_exporter": "python",
   "pygments_lexer": "ipython3",
   "version": "3.6.8"
  },
  "toc": {
   "base_numbering": 1,
   "nav_menu": {},
   "number_sections": true,
   "sideBar": true,
   "skip_h1_title": false,
   "title_cell": "Table of Contents",
   "title_sidebar": "Contents",
   "toc_cell": false,
   "toc_position": {},
   "toc_section_display": true,
   "toc_window_display": false
  },
  "varInspector": {
   "cols": {
    "lenName": 16,
    "lenType": 16,
    "lenVar": 40
   },
   "kernels_config": {
    "python": {
     "delete_cmd_postfix": "",
     "delete_cmd_prefix": "del ",
     "library": "var_list.py",
     "varRefreshCmd": "print(var_dic_list())"
    },
    "r": {
     "delete_cmd_postfix": ") ",
     "delete_cmd_prefix": "rm(",
     "library": "var_list.r",
     "varRefreshCmd": "cat(var_dic_list()) "
    }
   },
   "types_to_exclude": [
    "module",
    "function",
    "builtin_function_or_method",
    "instance",
    "_Feature"
   ],
   "window_display": false
  }
 },
 "nbformat": 4,
 "nbformat_minor": 2
}
