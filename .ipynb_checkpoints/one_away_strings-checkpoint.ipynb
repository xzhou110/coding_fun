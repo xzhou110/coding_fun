{
 "cells": [
  {
   "cell_type": "markdown",
   "metadata": {},
   "source": [
    "Check if edit distance between two strings is one\n",
    "An edit between two strings is one of the following changes.\n",
    "\n",
    "Add a character\n",
    "Delete a character\n",
    "Change a character\n",
    "Given two string s1 and s2, find if s1 can be converted to s2 with exactly one edit. Expected time complexity is O(m+n) where m and n are lengths of two strings.\n",
    "\n",
    "Examples:\n",
    "\n",
    "Input:  s1 = \"geeks\", s2 = \"geek\"\n",
    "Output: yes\n",
    "Number of edits is 1\n",
    "\n",
    "Input:  s1 = \"geeks\", s2 = \"geeks\"\n",
    "Output: yes\n",
    "Number of edits is 1\n",
    "\n",
    "Input:  s1 = \"geaks\", s2 = \"geeks\"\n",
    "Output: yes\n",
    "Number of edits is 1\n",
    "\n",
    "Input:  s1 = \"peaks\", s2 = \"geeks\"\n",
    "Output: no\n",
    "Number of edits is 2"
   ]
  },
  {
   "cell_type": "code",
   "execution_count": 1,
   "metadata": {
    "ExecuteTime": {
     "end_time": "2019-03-07T12:15:51.871565Z",
     "start_time": "2019-03-07T12:15:51.860839Z"
    }
   },
   "outputs": [],
   "source": [
    "# Implement your function below.\n",
    "def is_one_away(s1, s2):\n",
    "    change_count = 0\n",
    "    if s1 == s2:\n",
    "        return True\n",
    "    if (len(s1)-len(s2) > 1) or (len(s2)-len(s1) > 1):\n",
    "        return False\n",
    "    \n",
    "    p1 = 0\n",
    "    p2 = 0\n",
    "    \n",
    "    # Check if length is one character away from each other \n",
    "    while p1<len(s1)-1 and p2<len(s2)-1:\n",
    "        if s1[p1] == s2[p2]:\n",
    "            p1+=1\n",
    "            p2+=1\n",
    "        # An element was added    \n",
    "        elif s1[p1] == s2[p2+1]:\n",
    "            p1+=1\n",
    "            p2+=2\n",
    "            change_count+=1\n",
    "        # An element was deleted\n",
    "        elif s1[p1+1] == s2[p2]:\n",
    "            p1+=2\n",
    "            p2+=1\n",
    "            change_count+=1\n",
    "        elif s1[p1+1] == s2[p2+1]:\n",
    "            p1+=1\n",
    "            p2+=1\n",
    "            change_count+=1\n",
    "        else:\n",
    "            return False\n",
    "    \n",
    "    if p2 < len(s2)-1:\n",
    "        change_count+=1\n",
    "    \n",
    "    if change_count < 2:\n",
    "        return True\n",
    "    else:\n",
    "        return False"
   ]
  },
  {
   "cell_type": "code",
   "execution_count": 3,
   "metadata": {
    "ExecuteTime": {
     "end_time": "2019-03-07T12:17:15.682885Z",
     "start_time": "2019-03-07T12:17:15.676416Z"
    }
   },
   "outputs": [
    {
     "name": "stdout",
     "output_type": "stream",
     "text": [
      "True\n",
      "True\n",
      "True\n",
      "True\n",
      "True\n",
      "True\n",
      "False\n",
      "False\n",
      "False\n",
      "False\n"
     ]
    }
   ],
   "source": [
    "# NOTE: The following input values will be used for testing your solution.\n",
    "print(is_one_away(\"abcde\", \"abcd\"))  # should return True\n",
    "print(is_one_away(\"abde\", \"abcde\") ) # should return True\n",
    "print(is_one_away(\"a\", \"a\"))  # should return True\n",
    "print(is_one_away(\"abcdef\", \"abqdef\"))  # should return True\n",
    "print(is_one_away(\"abcdef\", \"abccef\"))  # should return True\n",
    "print(is_one_away(\"abcdef\", \"abcde\"))  # should return True\n",
    "print(is_one_away(\"aaa\", \"abc\"))  # should return False\n",
    "print(is_one_away(\"abcde\", \"abc\"))  # should return False\n",
    "print(is_one_away(\"abc\", \"abcde\"))  # should return False\n",
    "print(is_one_away(\"abc\", \"bcc\"))  # should return False"
   ]
  }
 ],
 "metadata": {
  "kernelspec": {
   "display_name": "Python 3",
   "language": "python",
   "name": "python3"
  },
  "language_info": {
   "codemirror_mode": {
    "name": "ipython",
    "version": 3
   },
   "file_extension": ".py",
   "mimetype": "text/x-python",
   "name": "python",
   "nbconvert_exporter": "python",
   "pygments_lexer": "ipython3",
   "version": "3.6.8"
  },
  "toc": {
   "base_numbering": 1,
   "nav_menu": {},
   "number_sections": true,
   "sideBar": true,
   "skip_h1_title": false,
   "title_cell": "Table of Contents",
   "title_sidebar": "Contents",
   "toc_cell": false,
   "toc_position": {},
   "toc_section_display": true,
   "toc_window_display": false
  },
  "varInspector": {
   "cols": {
    "lenName": 16,
    "lenType": 16,
    "lenVar": 40
   },
   "kernels_config": {
    "python": {
     "delete_cmd_postfix": "",
     "delete_cmd_prefix": "del ",
     "library": "var_list.py",
     "varRefreshCmd": "print(var_dic_list())"
    },
    "r": {
     "delete_cmd_postfix": ") ",
     "delete_cmd_prefix": "rm(",
     "library": "var_list.r",
     "varRefreshCmd": "cat(var_dic_list()) "
    }
   },
   "types_to_exclude": [
    "module",
    "function",
    "builtin_function_or_method",
    "instance",
    "_Feature"
   ],
   "window_display": false
  }
 },
 "nbformat": 4,
 "nbformat_minor": 2
}
