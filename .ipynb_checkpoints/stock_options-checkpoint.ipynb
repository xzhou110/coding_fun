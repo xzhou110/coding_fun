{
 "cells": [
  {
   "cell_type": "code",
   "execution_count": 18,
   "metadata": {
    "ExecuteTime": {
     "end_time": "2021-01-15T04:39:35.297270Z",
     "start_time": "2021-01-15T04:39:35.290929Z"
    }
   },
   "outputs": [],
   "source": [
    "import matplotlib.pyplot as plt\n",
    "import numpy as np\n",
    "from datetime import datetime"
   ]
  },
  {
   "cell_type": "code",
   "execution_count": 17,
   "metadata": {
    "ExecuteTime": {
     "end_time": "2021-01-15T04:38:46.864364Z",
     "start_time": "2021-01-15T04:38:46.858974Z"
    }
   },
   "outputs": [],
   "source": [
    "plt.style.use('seaborn')"
   ]
  },
  {
   "cell_type": "code",
   "execution_count": 168,
   "metadata": {
    "ExecuteTime": {
     "end_time": "2021-01-15T06:08:02.225800Z",
     "start_time": "2021-01-15T06:08:02.172807Z"
    }
   },
   "outputs": [],
   "source": [
    "class Call:\n",
    "    def __init__(self, ticker, expiration, action, strike, premium):\n",
    "        exp_date = datetime.strptime(expiration, '%Y-%m-%d')\n",
    "        exp_date_yr = exp_date.year\n",
    "        exp_date_mon = exp_date.month\n",
    "        exp_date_day = exp_date.day\n",
    "        if exp_date_mon < 10:\n",
    "            exp_date_mon = '0' + str(exp_date_mon)\n",
    "        if exp_date_day < 10:\n",
    "            exp_date_day = '0' + str(exp_date_day)\n",
    "            \n",
    "        exp_date_trans = str(exp_date_yr)[-2:] + str(exp_date_mon) + str(exp_date_day)\n",
    "        \n",
    "        self.name = ticker + exp_date_trans + 'C'+ str(strike)\n",
    "        self.expiration = expiration\n",
    "        self.action = action\n",
    "        self.strike = strike\n",
    "        self.premium = premium\n",
    "        self.payoff = [] \n",
    "        \n",
    "    def calc_profit(self, price):\n",
    "        if self.action == 'buy':\n",
    "            if price <= self.strike:\n",
    "                return -self.premium\n",
    "            elif price > self.strike:\n",
    "                return price - self.strike - self.premium\n",
    "            \n",
    "        elif self.action == 'sell':\n",
    "            if price <= self.strike:\n",
    "                return self.premium\n",
    "            elif price > self.strike:\n",
    "                return - price + self.strike + self.premium\n",
    "        \n",
    "    def calc_payoff(self, max_price=100):\n",
    "        for i in range (0, max_price+1):\n",
    "            earn = self.calc_profit(i)\n",
    "            self.payoff.append(earn)\n",
    "        \n",
    "    def graph(self, max_price=100):\n",
    "        self.calc_payoff(max_price)\n",
    "        x = np.arange(0, max_price+1, 1)\n",
    "        y = self.payoff\n",
    "        \n",
    "        plt.xlabel('Stock Price at Expiration')\n",
    "        plt.ylabel('Payoff')\n",
    "        plt.xticks(np.arange(min(x), max(x)+10, 10))\n",
    "        plt.yticks(np.arange(-100, 100, 10))\n",
    "        plt.legend(loc = 'upper left')\n",
    "        plt.plot(x, y, label = self.name)\n",
    "            "
   ]
  },
  {
   "cell_type": "code",
   "execution_count": 171,
   "metadata": {
    "ExecuteTime": {
     "end_time": "2021-01-15T06:16:55.515874Z",
     "start_time": "2021-01-15T06:16:55.501085Z"
    }
   },
   "outputs": [],
   "source": [
    "class Put:\n",
    "    def __init__(self, ticker, expiration, action, strike, premium):\n",
    "        exp_date = datetime.strptime(expiration, '%Y-%m-%d')\n",
    "        exp_date_yr = exp_date.year\n",
    "        exp_date_mon = exp_date.month\n",
    "        exp_date_day = exp_date.day\n",
    "        if exp_date_mon < 10:\n",
    "            exp_date_mon = '0' + str(exp_date_mon)\n",
    "        if exp_date_day < 10:\n",
    "            exp_date_day = '0' + str(exp_date_day)\n",
    "            \n",
    "        exp_date_trans = str(exp_date_yr)[-2:] + str(exp_date_mon) + str(exp_date_day)\n",
    "        \n",
    "        self.name = ticker + exp_date_trans + 'P'+ str(strike)\n",
    "        self.expiration = expiration\n",
    "        self.action = action\n",
    "        self.strike = strike\n",
    "        self.premium = premium\n",
    "        self.payoff = [] \n",
    "        \n",
    "    def calc_profit(self, price):\n",
    "        if self.action == 'buy':\n",
    "            if price <= self.strike:\n",
    "                return self.strike - price - self.premium\n",
    "            elif price > self.strike:\n",
    "                return - self.premium\n",
    "            \n",
    "        elif self.action == 'sell':\n",
    "            if price <= self.strike:\n",
    "                return - self.strike + price + self.premium\n",
    "            elif price > self.strike:\n",
    "                return self.premium\n",
    "        \n",
    "    def calc_payoff(self, max_price=100):\n",
    "        for i in range (0, max_price+1):\n",
    "            earn = self.calc_profit(i)\n",
    "            self.payoff.append(earn)\n",
    "        \n",
    "    def graph(self, max_price=100):\n",
    "        self.calc_payoff(max_price)\n",
    "        x = np.arange(0, max_price+1, 1)\n",
    "        y = self.payoff\n",
    "        \n",
    "        plt.xlabel('Stock Price at Expiration')\n",
    "        plt.ylabel('Payoff')\n",
    "        plt.xticks(np.arange(min(x), max(x)+10, 10))\n",
    "        plt.yticks(np.arange(-100, 100, 10))\n",
    "        plt.legend(loc = 'upper left')\n",
    "        plt.plot(x, y, label = self.name)\n",
    "            "
   ]
  },
  {
   "cell_type": "code",
   "execution_count": 134,
   "metadata": {
    "ExecuteTime": {
     "end_time": "2021-01-15T05:49:49.556565Z",
     "start_time": "2021-01-15T05:49:49.551702Z"
    }
   },
   "outputs": [],
   "source": [
    "c20 = Call('NIO', '210115', 'buy', 20, 5)"
   ]
  },
  {
   "cell_type": "code",
   "execution_count": 135,
   "metadata": {
    "ExecuteTime": {
     "end_time": "2021-01-15T05:49:50.303598Z",
     "start_time": "2021-01-15T05:49:50.295328Z"
    }
   },
   "outputs": [
    {
     "data": {
      "text/plain": [
       "-4"
      ]
     },
     "execution_count": 135,
     "metadata": {},
     "output_type": "execute_result"
    }
   ],
   "source": [
    "c20.calc_profit(21)"
   ]
  },
  {
   "cell_type": "code",
   "execution_count": 172,
   "metadata": {
    "ExecuteTime": {
     "end_time": "2021-01-15T06:18:26.730577Z",
     "start_time": "2021-01-15T06:18:26.464125Z"
    }
   },
   "outputs": [
    {
     "name": "stderr",
     "output_type": "stream",
     "text": [
      "No handles with labels found to put in legend.\n"
     ]
    },
    {
     "data": {
      "image/png": "[encoded data removed]",
      "text/plain": [
       "<Figure size 576x396 with 1 Axes>"
      ]
     },
     "metadata": {},
     "output_type": "display_data"
    }
   ],
   "source": [
    "bc20 = Call('NIO', '2025-01-02', 'buy', 20, 5)\n",
    "sc50 = Call('NIO', '2020-03-10', 'sell', 50, 5)\n",
    "bp30 = Call('NIO', '2025-01-05', 'buy', 30, 2)\n",
    "sp60 = Call('NIO', '2025-01-05', 'sell', 60, 8)\n",
    "\n",
    "bc20.graph()\n",
    "sc50.graph()\n",
    "bp30.graph()\n",
    "sp60.graph()\n"
   ]
  },
  {
   "cell_type": "code",
   "execution_count": null,
   "metadata": {},
   "outputs": [],
   "source": []
  }
 ],
 "metadata": {
  "kernelspec": {
   "display_name": "Python 3",
   "language": "python",
   "name": "python3"
  },
  "language_info": {
   "codemirror_mode": {
    "name": "ipython",
    "version": 3
   },
   "file_extension": ".py",
   "mimetype": "text/x-python",
   "name": "python",
   "nbconvert_exporter": "python",
   "pygments_lexer": "ipython3",
   "version": "3.6.8"
  },
  "toc": {
   "base_numbering": 1,
   "nav_menu": {},
   "number_sections": true,
   "sideBar": true,
   "skip_h1_title": false,
   "title_cell": "Table of Contents",
   "title_sidebar": "Contents",
   "toc_cell": false,
   "toc_position": {},
   "toc_section_display": true,
   "toc_window_display": false
  },
  "varInspector": {
   "cols": {
    "lenName": 16,
    "lenType": 16,
    "lenVar": 40
   },
   "kernels_config": {
    "python": {
     "delete_cmd_postfix": "",
     "delete_cmd_prefix": "del ",
     "library": "var_list.py",
     "varRefreshCmd": "print(var_dic_list())"
    },
    "r": {
     "delete_cmd_postfix": ") ",
     "delete_cmd_prefix": "rm(",
     "library": "var_list.r",
     "varRefreshCmd": "cat(var_dic_list()) "
    }
   },
   "types_to_exclude": [
    "module",
    "function",
    "builtin_function_or_method",
    "instance",
    "_Feature"
   ],
   "window_display": false
  }
 },
 "nbformat": 4,
 "nbformat_minor": 2
}
