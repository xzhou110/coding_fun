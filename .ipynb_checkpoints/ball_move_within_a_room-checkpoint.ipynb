{
 "cells": [
  {
   "cell_type": "markdown",
   "metadata": {},
   "source": [
    "Create a ball that can move around the room and return the label of room when it stops.\n",
    "Input: matrixSize. This will be used to construct squared matrix\n",
    "cmds: lists of commands that include: Left, Right, Up, and Down"
   ]
  },
  {
   "cell_type": "code",
   "execution_count": 1,
   "metadata": {
    "ExecuteTime": {
     "end_time": "2019-03-19T06:48:39.090203Z",
     "start_time": "2019-03-19T06:48:39.072757Z"
    }
   },
   "outputs": [],
   "source": [
    "def roverMove(matrixSize, cmds):\n",
    "    matrix = [[i+j*matrixSize for i in range(matrixSize)] for j in range(matrixSize)]\n",
    "    print(matrix)\n",
    "\n",
    "    # Define starting point\n",
    "    cur_x, cur_y = 0, 0\n",
    "    for i in range(len(cmds)):\n",
    "        label, cur_x, cur_y = move(cmds[i], matrix, cur_x, cur_y)\n",
    "        print(label, cur_x, cur_y)\n",
    "\n",
    "    return label\n",
    "\n",
    "def move(cmd, matrix, cur_x, cur_y):\n",
    "    if cmd == 'LEFT':\n",
    "        x = cur_x \n",
    "        y = cur_y -1  \n",
    "    elif cmd == 'RIGHT':\n",
    "        x = cur_x \n",
    "        y = cur_y +1 \n",
    "    elif cmd == 'UP':\n",
    "        x = cur_x -1\n",
    "        y = cur_y \n",
    "    elif cmd == 'DOWN':\n",
    "        x = cur_x +1\n",
    "        y = cur_y \n",
    "    else:\n",
    "        return None\n",
    "    \n",
    "    # Check for boundary\n",
    "    if 0<=x<len(matrix) and 0<=y<len(matrix):\n",
    "        return matrix[x][y], x, y\n",
    "    else:\n",
    "        return matrix[cur_x][cur_y], cur_x, cur_y"
   ]
  },
  {
   "cell_type": "code",
   "execution_count": 2,
   "metadata": {
    "ExecuteTime": {
     "end_time": "2019-03-19T06:48:39.121010Z",
     "start_time": "2019-03-19T06:48:39.094398Z"
    }
   },
   "outputs": [
    {
     "name": "stdout",
     "output_type": "stream",
     "text": [
      "[[0, 1, 2, 3], [4, 5, 6, 7], [8, 9, 10, 11], [12, 13, 14, 15]]\n",
      "0 0 0\n",
      "1 0 1\n",
      "5 1 1\n",
      "9 2 1\n"
     ]
    },
    {
     "data": {
      "text/plain": [
       "9"
      ]
     },
     "execution_count": 2,
     "metadata": {},
     "output_type": "execute_result"
    }
   ],
   "source": [
    "roverMove(4, ['UP', 'RIGHT', 'DOWN', 'DOWN'])"
   ]
  }
 ],
 "metadata": {
  "kernelspec": {
   "display_name": "Python 3",
   "language": "python",
   "name": "python3"
  },
  "language_info": {
   "codemirror_mode": {
    "name": "ipython",
    "version": 3
   },
   "file_extension": ".py",
   "mimetype": "text/x-python",
   "name": "python",
   "nbconvert_exporter": "python",
   "pygments_lexer": "ipython3",
   "version": "3.6.8"
  },
  "toc": {
   "base_numbering": 1,
   "nav_menu": {},
   "number_sections": true,
   "sideBar": true,
   "skip_h1_title": false,
   "title_cell": "Table of Contents",
   "title_sidebar": "Contents",
   "toc_cell": false,
   "toc_position": {},
   "toc_section_display": true,
   "toc_window_display": false
  },
  "varInspector": {
   "cols": {
    "lenName": 16,
    "lenType": 16,
    "lenVar": 40
   },
   "kernels_config": {
    "python": {
     "delete_cmd_postfix": "",
     "delete_cmd_prefix": "del ",
     "library": "var_list.py",
     "varRefreshCmd": "print(var_dic_list())"
    },
    "r": {
     "delete_cmd_postfix": ") ",
     "delete_cmd_prefix": "rm(",
     "library": "var_list.r",
     "varRefreshCmd": "cat(var_dic_list()) "
    }
   },
   "types_to_exclude": [
    "module",
    "function",
    "builtin_function_or_method",
    "instance",
    "_Feature"
   ],
   "window_display": false
  }
 },
 "nbformat": 4,
 "nbformat_minor": 2
}
