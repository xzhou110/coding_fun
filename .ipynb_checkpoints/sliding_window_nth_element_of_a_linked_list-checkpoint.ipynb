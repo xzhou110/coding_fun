{
 "cells": [
  {
   "cell_type": "markdown",
   "metadata": {},
   "source": [
    "Implement a function that finds and returns the nth node in a linked list, counting from the end.\n",
    "Your function should take a linked list (its head element) and n, a positive integer as its aurgements.\n",
    "If given head is null, reutrn null"
   ]
  },
  {
   "cell_type": "code",
   "execution_count": 1,
   "metadata": {
    "ExecuteTime": {
     "end_time": "2019-03-09T05:59:34.643052Z",
     "start_time": "2019-03-09T05:59:34.624713Z"
    }
   },
   "outputs": [],
   "source": [
    "# Approach #1: Implemented using list\n",
    "\n",
    "class Node:\n",
    "    def __init__(self, value, child=None):\n",
    "        self.value = value\n",
    "        self.child = child\n",
    "\n",
    "    # The string representation of this node.\n",
    "    # Will be used for testing.\n",
    "    def __str__(self):\n",
    "        return str(self.value)\n",
    "\n",
    "def nth_from_last1(head, n):\n",
    "    next_node = head\n",
    "    lis = []\n",
    "    \n",
    "    if head is None:\n",
    "        return None\n",
    "    \n",
    "    while next_node:\n",
    "        lis.append(next_node.value)\n",
    "        next_node = next_node.child\n",
    "    \n",
    "    if n > len(lis):\n",
    "        return None        \n",
    "    return lis[-n]\n",
    "\n",
    "\n",
    "# NOTE: Feel free to use the following function for testing.\n",
    "# It converts the given linked list into an easy-to-read string format.\n",
    "# Example: 7 -> 6 -> 5 -> 4 -> 3 -> 2 -> 1 -> (None)\n",
    "def linked_list_to_string(head):\n",
    "    current = head\n",
    "    str_list = []\n",
    "    while current:\n",
    "        str_list.append(str(current.value))\n",
    "        current = current.child\n",
    "    str_list.append('(None)')\n",
    "    return ' -> '.join(str_list)"
   ]
  },
  {
   "cell_type": "code",
   "execution_count": 2,
   "metadata": {
    "ExecuteTime": {
     "end_time": "2019-03-09T05:59:34.656389Z",
     "start_time": "2019-03-09T05:59:34.647467Z"
    }
   },
   "outputs": [
    {
     "name": "stdout",
     "output_type": "stream",
     "text": [
      "7 -> 6 -> 5 -> 4 -> 3 -> 2 -> 1 -> (None)\n",
      "1 -> 2 -> 3 -> 4 -> (None)\n"
     ]
    }
   ],
   "source": [
    "# NOTE: The following input values will be used for testing your solution.\n",
    "current = Node(1)\n",
    "for i in range(2, 8):\n",
    "    current = Node(i, current)\n",
    "head = current\n",
    "print(linked_list_to_string(head))\n",
    "# head = 7 -> 6 -> 5 -> 4 -> 3 -> 2 -> 1 -> (None)\n",
    "\n",
    "current2 = Node(4)\n",
    "for i in range(3, 0, -1):\n",
    "    current2 = Node(i, current2)\n",
    "head2 = current2\n",
    "print(linked_list_to_string(head2))\n",
    "# head2 = 1 -> 2 -> 3 -> 4 -> (None)\n",
    "\n",
    "# nth_from_last(head, 1) should return 1.\n",
    "# nth_from_last(head, 5) should return 5.\n",
    "# nth_from_last(head2, 2) should return 3.\n",
    "# nth_from_last(head2, 4) should return 1.\n",
    "# nth_from_last(head2, 5) should return None.\n",
    "# nth_from_last(None, 1) should return None."
   ]
  },
  {
   "cell_type": "code",
   "execution_count": 3,
   "metadata": {
    "ExecuteTime": {
     "end_time": "2019-03-09T05:59:34.675785Z",
     "start_time": "2019-03-09T05:59:34.663134Z"
    }
   },
   "outputs": [
    {
     "name": "stdout",
     "output_type": "stream",
     "text": [
      "1\n",
      "5\n",
      "3\n",
      "1\n",
      "None\n",
      "None\n"
     ]
    }
   ],
   "source": [
    "print(nth_from_last1(head, 1))\n",
    "print(nth_from_last1(head, 5))\n",
    "print(nth_from_last1(head2, 2))\n",
    "print(nth_from_last1(head2, 4))\n",
    "print(nth_from_last1(head2, 5))\n",
    "print(nth_from_last1(None, 1))"
   ]
  },
  {
   "cell_type": "code",
   "execution_count": 4,
   "metadata": {
    "ExecuteTime": {
     "end_time": "2019-03-09T05:59:34.687194Z",
     "start_time": "2019-03-09T05:59:34.678928Z"
    }
   },
   "outputs": [],
   "source": [
    "# Approach #2: Implemented using sliding window\n",
    "\n",
    "def nth_from_last2(head, n):\n",
    "    if head is None:\n",
    "        return None\n",
    "\n",
    "    p1 = head\n",
    "    p2 = head\n",
    "    \n",
    "    # Create a sliding window\n",
    "    for i in range(1, n, 1):\n",
    "        if p2.child!=None:\n",
    "            p2 = p2.child\n",
    "        else:\n",
    "            return None\n",
    "    \n",
    "    while p2.child:\n",
    "        p1 = p1.child\n",
    "        p2 = p2.child\n",
    "    \n",
    "    return p1.value"
   ]
  },
  {
   "cell_type": "code",
   "execution_count": 5,
   "metadata": {
    "ExecuteTime": {
     "end_time": "2019-03-09T05:59:34.709203Z",
     "start_time": "2019-03-09T05:59:34.690282Z"
    }
   },
   "outputs": [
    {
     "name": "stdout",
     "output_type": "stream",
     "text": [
      "1\n",
      "5\n",
      "3\n",
      "1\n",
      "None\n",
      "None\n"
     ]
    }
   ],
   "source": [
    "print(nth_from_last2(head, 1))\n",
    "print(nth_from_last2(head, 5))\n",
    "print(nth_from_last2(head2, 2))\n",
    "print(nth_from_last2(head2, 4))\n",
    "print(nth_from_last2(head2, 5))\n",
    "print(nth_from_last2(None, 1))"
   ]
  }
 ],
 "metadata": {
  "kernelspec": {
   "display_name": "Python 3",
   "language": "python",
   "name": "python3"
  },
  "language_info": {
   "codemirror_mode": {
    "name": "ipython",
    "version": 3
   },
   "file_extension": ".py",
   "mimetype": "text/x-python",
   "name": "python",
   "nbconvert_exporter": "python",
   "pygments_lexer": "ipython3",
   "version": "3.6.8"
  },
  "toc": {
   "base_numbering": 1,
   "nav_menu": {},
   "number_sections": true,
   "sideBar": true,
   "skip_h1_title": false,
   "title_cell": "Table of Contents",
   "title_sidebar": "Contents",
   "toc_cell": false,
   "toc_position": {},
   "toc_section_display": true,
   "toc_window_display": false
  },
  "varInspector": {
   "cols": {
    "lenName": 16,
    "lenType": 16,
    "lenVar": 40
   },
   "kernels_config": {
    "python": {
     "delete_cmd_postfix": "",
     "delete_cmd_prefix": "del ",
     "library": "var_list.py",
     "varRefreshCmd": "print(var_dic_list())"
    },
    "r": {
     "delete_cmd_postfix": ") ",
     "delete_cmd_prefix": "rm(",
     "library": "var_list.r",
     "varRefreshCmd": "cat(var_dic_list()) "
    }
   },
   "types_to_exclude": [
    "module",
    "function",
    "builtin_function_or_method",
    "instance",
    "_Feature"
   ],
   "window_display": false
  }
 },
 "nbformat": 4,
 "nbformat_minor": 2
}
