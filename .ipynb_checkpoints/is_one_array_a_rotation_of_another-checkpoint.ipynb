{
 "cells": [
  {
   "cell_type": "markdown",
   "metadata": {},
   "source": [
    "Write a function that returns True if one array is a rotation of another. Example: [1,2,3,4,5,6,7] is a rotation of [4,5,6,7,1,2,3]. \n",
    "Note: There are no duplicates in each of these arrays.<p>\n",
    "Complexity requirement: O(n)"
   ]
  },
  {
   "cell_type": "code",
   "execution_count": 1,
   "metadata": {
    "ExecuteTime": {
     "end_time": "2019-03-07T11:46:14.404461Z",
     "start_time": "2019-03-07T11:46:14.387076Z"
    }
   },
   "outputs": [],
   "source": [
    "# Implement your function below.\n",
    "def is_rotation(list1, list2):\n",
    "    if len(list1) != len(list2):\n",
    "        return False\n",
    "    \n",
    "    index = {}\n",
    "    \n",
    "    for i, v in enumerate(list1):\n",
    "        if v not in index:\n",
    "            index[v] = i\n",
    "        else:\n",
    "            continue\n",
    "    \n",
    "    if list2[0] in index:\n",
    "        p1 = index[list2[0]]\n",
    "    return False\n",
    "\n",
    "    p2 = 0\n",
    "    while p2 < len(list2):\n",
    "        if p1< len(list1):\n",
    "            if list1[p1] == list2[p2]:\n",
    "                p1+=1\n",
    "                p2+=1\n",
    "            else:\n",
    "                return False\n",
    "        else:\n",
    "            p1 = 0\n",
    "            if list1[p1] == list2[p2]:\n",
    "                p1+=1\n",
    "                p2+=1\n",
    "            else:\n",
    "                return False\n",
    "    return True"
   ]
  },
  {
   "cell_type": "code",
   "execution_count": 2,
   "metadata": {
    "ExecuteTime": {
     "end_time": "2019-03-07T11:46:14.417820Z",
     "start_time": "2019-03-07T11:46:14.407520Z"
    }
   },
   "outputs": [],
   "source": [
    "# NOTE: The following input values will be used for testing your solution.\n",
    "list1 = [1, 2, 3, 4, 5, 6, 7]\n",
    "list2a = [4, 5, 6, 7, 8, 1, 2, 3]\n",
    "# is_rotation(list1, list2a) should return False.\n",
    "list2b = [4, 5, 6, 7, 1, 2, 3]\n",
    "# is_rotation(list1, list2b) should return True.\n",
    "list2c = [4, 5, 6, 9, 1, 2, 3]\n",
    "# is_rotation(list1, list2c) should return False.\n",
    "list2d = [4, 6, 5, 7, 1, 2, 3]\n",
    "# is_rotation(list1, list2d) should return False.\n",
    "list2e = [4, 5, 6, 7, 0, 2, 3]\n",
    "# is_rotation(list1, list2e) should return False.\n",
    "list2f = [1, 2, 3, 4, 5, 6, 7]\n",
    "# is_rotation(list1, list2f) should return True."
   ]
  },
  {
   "cell_type": "code",
   "execution_count": 3,
   "metadata": {
    "ExecuteTime": {
     "end_time": "2019-03-07T11:46:14.432402Z",
     "start_time": "2019-03-07T11:46:14.420820Z"
    }
   },
   "outputs": [
    {
     "name": "stdout",
     "output_type": "stream",
     "text": [
      "False\n",
      "False\n",
      "False\n",
      "False\n",
      "False\n",
      "False\n"
     ]
    }
   ],
   "source": [
    "print (is_rotation(list1, list2a))\n",
    "print (is_rotation(list1, list2b))\n",
    "print (is_rotation(list1, list2c))\n",
    "print (is_rotation(list1, list2d))\n",
    "print (is_rotation(list1, list2e))\n",
    "print (is_rotation(list1, list2f))"
   ]
  }
 ],
 "metadata": {
  "kernelspec": {
   "display_name": "Python 3",
   "language": "python",
   "name": "python3"
  },
  "language_info": {
   "codemirror_mode": {
    "name": "ipython",
    "version": 3
   },
   "file_extension": ".py",
   "mimetype": "text/x-python",
   "name": "python",
   "nbconvert_exporter": "python",
   "pygments_lexer": "ipython3",
   "version": "3.6.8"
  },
  "toc": {
   "base_numbering": 1,
   "nav_menu": {},
   "number_sections": true,
   "sideBar": true,
   "skip_h1_title": false,
   "title_cell": "Table of Contents",
   "title_sidebar": "Contents",
   "toc_cell": false,
   "toc_position": {},
   "toc_section_display": true,
   "toc_window_display": false
  },
  "varInspector": {
   "cols": {
    "lenName": 16,
    "lenType": 16,
    "lenVar": 40
   },
   "kernels_config": {
    "python": {
     "delete_cmd_postfix": "",
     "delete_cmd_prefix": "del ",
     "library": "var_list.py",
     "varRefreshCmd": "print(var_dic_list())"
    },
    "r": {
     "delete_cmd_postfix": ") ",
     "delete_cmd_prefix": "rm(",
     "library": "var_list.r",
     "varRefreshCmd": "cat(var_dic_list()) "
    }
   },
   "types_to_exclude": [
    "module",
    "function",
    "builtin_function_or_method",
    "instance",
    "_Feature"
   ],
   "window_display": false
  }
 },
 "nbformat": 4,
 "nbformat_minor": 2
}
