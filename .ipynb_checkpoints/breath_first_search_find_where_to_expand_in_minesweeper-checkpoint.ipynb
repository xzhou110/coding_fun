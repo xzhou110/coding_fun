{
 "cells": [
  {
   "cell_type": "markdown",
   "metadata": {},
   "source": [
    "Implement a function that turns revealed cells into -2 given a location the user wants to click.\n",
    "For simplicity, only reveal cells that have 0 in them. If the user clicks on any other type of cell, just ignore the click and return the original field. If a user clicks 0, reveal all other 0's that are conencted to it"
   ]
  },
  {
   "cell_type": "code",
   "execution_count": 82,
   "metadata": {
    "ExecuteTime": {
     "end_time": "2020-09-17T08:07:03.280506Z",
     "start_time": "2020-09-17T08:07:03.273908Z"
    }
   },
   "outputs": [],
   "source": [
    "# Bredth first search\n",
    "\n",
    "def click(field, num_rows, num_cols, given_i, given_j):\n",
    "    if field[given_i][given_j]!=0:\n",
    "        return field\n",
    "    else:\n",
    "        field[given_i][given_j]=-2\n",
    "        stack = [(given_i, given_j)]\n",
    "        visited = set()\n",
    "        while stack:\n",
    "            curr_vertex = stack.pop()\n",
    "            if curr_vertex not in visited:\n",
    "                visited.add(curr_vertex)\n",
    "                curr_i, curr_j = curr_vertex[0], curr_vertex[1]\n",
    "                field[curr_i][curr_j] =-2\n",
    "                for i in range(curr_i-1, curr_i+2):\n",
    "                    for j in range(curr_j-1, curr_j+2):\n",
    "                        if 0<=i<num_rows and 0<=j<num_cols and field[i][j] == 0:\n",
    "                            stack.append((i,j))  \n",
    "    return field"
   ]
  },
  {
   "cell_type": "code",
   "execution_count": 83,
   "metadata": {
    "ExecuteTime": {
     "end_time": "2020-09-17T08:07:04.128030Z",
     "start_time": "2020-09-17T08:07:04.121920Z"
    }
   },
   "outputs": [],
   "source": [
    "# NOTE: Feel free to use the following function for testing.\n",
    "# It converts a 2-dimensional array (a list of lists) into\n",
    "# an easy-to-read string format.\n",
    "def to_string(given_array):\n",
    "    list_rows = []\n",
    "    for row in given_array:\n",
    "        list_rows.append(str(row))\n",
    "    return '[' + ',\\n '.join(list_rows) + ']'"
   ]
  },
  {
   "cell_type": "code",
   "execution_count": 84,
   "metadata": {
    "ExecuteTime": {
     "end_time": "2020-09-17T08:07:05.270793Z",
     "start_time": "2020-09-17T08:07:05.263185Z"
    }
   },
   "outputs": [],
   "source": [
    "# NOTE: The following input values will be used for testing your solution.\n",
    "field1 = [[0, 0, 0, 0, 0],\n",
    "          [0, 1, 1, 1, 0],\n",
    "          [0, 1, -1, 1, 0]]\n",
    "\n",
    "# click(field1, 3, 5, 2, 2) should return:\n",
    "# [[0, 0, 0, 0, 0],\n",
    "#  [0, 1, 1, 1, 0],\n",
    "#  [0, 1, -1, 1, 0]]\n",
    "\n",
    "# click(field1, 3, 5, 1, 4) should return:\n",
    "# [[-2, -2, -2, -2, -2],\n",
    "#  [-2, 1, 1, 1, -2],\n",
    "#  [-2, 1, -1, 1, -2]]\n",
    "\n",
    "\n",
    "field2 = [[-1, 1, 0, 0],\n",
    "          [1, 1, 0, 0],\n",
    "          [0, 0, 1, 1],\n",
    "          [0, 0, 1, -1]]\n",
    "\n",
    "# click(field2, 4, 4, 0, 1) should return:\n",
    "# [[-1, 1, 0, 0],\n",
    "#  [1, 1, 0, 0],\n",
    "#  [0, 0, 1, 1],\n",
    "#  [0, 0, 1, -1]]\n",
    "\n",
    "# click(field2, 4, 4, 1, 3) should return:\n",
    "# [[-1, 1, -2, -2],\n",
    "#  [1, 1, -2, -2],\n",
    "#  [-2, -2, 1, 1],\n",
    "#  [-2, -2, 1, -1]]"
   ]
  },
  {
   "cell_type": "code",
   "execution_count": 85,
   "metadata": {
    "ExecuteTime": {
     "end_time": "2020-09-17T08:07:05.873391Z",
     "start_time": "2020-09-17T08:07:05.865888Z"
    }
   },
   "outputs": [
    {
     "name": "stdout",
     "output_type": "stream",
     "text": [
      "[[0, 0, 0, 0, 0],\n",
      " [0, 1, 1, 1, 0],\n",
      " [0, 1, -1, 1, 0]] \n",
      "\n",
      "[[-2, -2, -2, -2, -2],\n",
      " [-2, 1, 1, 1, -2],\n",
      " [-2, 1, -1, 1, -2]] \n",
      "\n",
      "[[-1, 1, 0, 0],\n",
      " [1, 1, 0, 0],\n",
      " [0, 0, 1, 1],\n",
      " [0, 0, 1, -1]] \n",
      "\n",
      "[[-1, 1, -2, -2],\n",
      " [1, 1, -2, -2],\n",
      " [-2, -2, 1, 1],\n",
      " [-2, -2, 1, -1]] \n",
      "\n"
     ]
    }
   ],
   "source": [
    "print(to_string(click(field1, 3, 5, 2, 2)),'\\n')\n",
    "print(to_string(click(field1, 3, 5, 1, 4)),'\\n')\n",
    "print(to_string(click(field2, 4, 4, 0, 1)),'\\n')\n",
    "print(to_string(click(field2, 4, 4, 1, 3)),'\\n')"
   ]
  },
  {
   "cell_type": "code",
   "execution_count": 49,
   "metadata": {
    "ExecuteTime": {
     "end_time": "2020-09-17T07:56:48.204203Z",
     "start_time": "2020-09-17T07:56:48.200030Z"
    }
   },
   "outputs": [],
   "source": [
    "a = [[1, 2], [2, 3]]"
   ]
  },
  {
   "cell_type": "code",
   "execution_count": 34,
   "metadata": {
    "ExecuteTime": {
     "end_time": "2020-09-17T07:52:48.357788Z",
     "start_time": "2020-09-17T07:52:48.327418Z"
    }
   },
   "outputs": [
    {
     "name": "stdout",
     "output_type": "stream",
     "text": [
      "[[1, 2], [2, 3]]\n"
     ]
    }
   ],
   "source": [
    "print(a)"
   ]
  },
  {
   "cell_type": "code",
   "execution_count": 50,
   "metadata": {
    "ExecuteTime": {
     "end_time": "2020-09-17T07:56:50.141389Z",
     "start_time": "2020-09-17T07:56:50.136286Z"
    }
   },
   "outputs": [],
   "source": [
    "a.append([3,4])"
   ]
  },
  {
   "cell_type": "code",
   "execution_count": 51,
   "metadata": {
    "ExecuteTime": {
     "end_time": "2020-09-17T07:56:52.572405Z",
     "start_time": "2020-09-17T07:56:52.561312Z"
    }
   },
   "outputs": [
    {
     "data": {
      "text/plain": [
       "[[1, 2], [2, 3], [3, 4]]"
      ]
     },
     "execution_count": 51,
     "metadata": {},
     "output_type": "execute_result"
    }
   ],
   "source": [
    "a"
   ]
  },
  {
   "cell_type": "code",
   "execution_count": 28,
   "metadata": {
    "ExecuteTime": {
     "end_time": "2020-09-17T07:51:45.047997Z",
     "start_time": "2020-09-17T07:51:45.039117Z"
    }
   },
   "outputs": [
    {
     "data": {
      "text/plain": [
       "[[1, 2], [2, 3], 3, 4]"
      ]
     },
     "execution_count": 28,
     "metadata": {},
     "output_type": "execute_result"
    }
   ],
   "source": [
    "a"
   ]
  },
  {
   "cell_type": "code",
   "execution_count": null,
   "metadata": {},
   "outputs": [],
   "source": [
    "b =3"
   ]
  },
  {
   "cell_type": "code",
   "execution_count": 89,
   "metadata": {
    "ExecuteTime": {
     "end_time": "2020-09-17T08:09:12.144320Z",
     "start_time": "2020-09-17T08:09:12.136014Z"
    }
   },
   "outputs": [],
   "source": [
    "# practice\n",
    "def click2(field, num_rows, num_cols, given_i, given_j):\n",
    "    if field[given_i][given_j]!= 0:\n",
    "#         print('mama')\n",
    "        return field\n",
    "    else:\n",
    "        field[given_i][given_j] = -2\n",
    "        stack = [(given_i, given_j)]\n",
    "        visited = set()\n",
    "#         print ('haha')\n",
    "    while stack:\n",
    "#         print('baba')\n",
    "        curr_vertex = stack.pop()\n",
    "        if curr_vertex not in visited:\n",
    "            visited.add(curr_vertex)\n",
    "            curr_i, curr_j = curr_vertex[0], curr_vertex[1]\n",
    "            field[curr_i][curr_j] = -2\n",
    "            for i in range(curr_i-1, curr_i+2):\n",
    "                for j in range (curr_j-1, curr_j+2):\n",
    "                    if 0<=i<num_rows and 0<=j<num_rows and field[i][j]==0: \n",
    "                        stack.append((i, j))\n",
    "\n",
    "    return field"
   ]
  },
  {
   "cell_type": "code",
   "execution_count": 90,
   "metadata": {
    "ExecuteTime": {
     "end_time": "2020-09-17T08:09:13.608151Z",
     "start_time": "2020-09-17T08:09:13.599837Z"
    }
   },
   "outputs": [],
   "source": [
    "# NOTE: The following input values will be used for testing your solution.\n",
    "field1 = [[0, 0, 0, 0, 0],\n",
    "          [0, 1, 1, 1, 0],\n",
    "          [0, 1, -1, 1, 0]]\n",
    "\n",
    "# click(field1, 3, 5, 2, 2) should return:\n",
    "# [[0, 0, 0, 0, 0],\n",
    "#  [0, 1, 1, 1, 0],\n",
    "#  [0, 1, -1, 1, 0]]\n",
    "\n",
    "# click(field1, 3, 5, 1, 4) should return:\n",
    "# [[-2, -2, -2, -2, -2],\n",
    "#  [-2, 1, 1, 1, -2],\n",
    "#  [-2, 1, -1, 1, -2]]\n",
    "\n",
    "\n",
    "field2 = [[-1, 1, 0, 0],\n",
    "          [1, 1, 0, 0],\n",
    "          [0, 0, 1, 1],\n",
    "          [0, 0, 1, -1]]\n",
    "\n",
    "# click(field2, 4, 4, 0, 1) should return:\n",
    "# [[-1, 1, 0, 0],\n",
    "#  [1, 1, 0, 0],\n",
    "#  [0, 0, 1, 1],\n",
    "#  [0, 0, 1, -1]]\n",
    "\n",
    "# click(field2, 4, 4, 1, 3) should return:\n",
    "# [[-1, 1, -2, -2],\n",
    "#  [1, 1, -2, -2],\n",
    "#  [-2, -2, 1, 1],\n",
    "#  [-2, -2, 1, -1]]"
   ]
  },
  {
   "cell_type": "code",
   "execution_count": 91,
   "metadata": {
    "ExecuteTime": {
     "end_time": "2020-09-17T08:09:13.975620Z",
     "start_time": "2020-09-17T08:09:13.965619Z"
    }
   },
   "outputs": [
    {
     "name": "stdout",
     "output_type": "stream",
     "text": [
      "[[0, 0, 0, 0, 0],\n",
      " [0, 1, 1, 1, 0],\n",
      " [0, 1, -1, 1, 0]] \n",
      "\n",
      "[[0, 0, 0, 0, 0],\n",
      " [0, 1, 1, 1, -2],\n",
      " [0, 1, -1, 1, 0]] \n",
      "\n",
      "[[-1, 1, 0, 0],\n",
      " [1, 1, 0, 0],\n",
      " [0, 0, 1, 1],\n",
      " [0, 0, 1, -1]] \n",
      "\n",
      "[[-1, 1, -2, -2],\n",
      " [1, 1, -2, -2],\n",
      " [-2, -2, 1, 1],\n",
      " [-2, -2, 1, -1]] \n",
      "\n"
     ]
    }
   ],
   "source": [
    "print(to_string(click2(field1, 3, 5, 2, 2)),'\\n')\n",
    "print(to_string(click2(field1, 3, 5, 1, 4)),'\\n')\n",
    "print(to_string(click2(field2, 4, 4, 0, 1)),'\\n')\n",
    "print(to_string(click2(field2, 4, 4, 1, 3)),'\\n')"
   ]
  },
  {
   "cell_type": "code",
   "execution_count": null,
   "metadata": {},
   "outputs": [],
   "source": []
  }
 ],
 "metadata": {
  "kernelspec": {
   "display_name": "Python 3",
   "language": "python",
   "name": "python3"
  },
  "language_info": {
   "codemirror_mode": {
    "name": "ipython",
    "version": 3
   },
   "file_extension": ".py",
   "mimetype": "text/x-python",
   "name": "python",
   "nbconvert_exporter": "python",
   "pygments_lexer": "ipython3",
   "version": "3.6.8"
  },
  "toc": {
   "base_numbering": 1,
   "nav_menu": {},
   "number_sections": true,
   "sideBar": true,
   "skip_h1_title": false,
   "title_cell": "Table of Contents",
   "title_sidebar": "Contents",
   "toc_cell": false,
   "toc_position": {},
   "toc_section_display": true,
   "toc_window_display": false
  },
  "varInspector": {
   "cols": {
    "lenName": 16,
    "lenType": 16,
    "lenVar": 40
   },
   "kernels_config": {
    "python": {
     "delete_cmd_postfix": "",
     "delete_cmd_prefix": "del ",
     "library": "var_list.py",
     "varRefreshCmd": "print(var_dic_list())"
    },
    "r": {
     "delete_cmd_postfix": ") ",
     "delete_cmd_prefix": "rm(",
     "library": "var_list.r",
     "varRefreshCmd": "cat(var_dic_list()) "
    }
   },
   "types_to_exclude": [
    "module",
    "function",
    "builtin_function_or_method",
    "instance",
    "_Feature"
   ],
   "window_display": false
  }
 },
 "nbformat": 4,
 "nbformat_minor": 2
}
