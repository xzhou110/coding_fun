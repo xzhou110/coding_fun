{
 "cells": [
  {
   "cell_type": "markdown",
   "metadata": {},
   "source": [
    "Create a Translator that be able to translate from letters to numbers, and numbers from letters."
   ]
  },
  {
   "cell_type": "code",
   "execution_count": 1,
   "metadata": {
    "ExecuteTime": {
     "end_time": "2019-03-17T05:11:28.515719Z",
     "start_time": "2019-03-17T05:11:28.508210Z"
    }
   },
   "outputs": [],
   "source": [
    "# Approach #1\n",
    "\n",
    "def translate1(arg):\n",
    "    \n",
    "    if arg is None:\n",
    "        return None\n",
    "    \n",
    "    lis_num = range(1,4)\n",
    "    lis_letter = ['a', 'b', 'c']\n",
    "    dic_n2l = {}\n",
    "    \n",
    "    for index, value in enumerate(lis_num):\n",
    "        dic_n2l[value] = lis_letter[index]\n",
    "    \n",
    "    dic_l2n = {value: key for key, value in dic_n2l.items()}\n",
    "    \n",
    "    if (arg not in dic_n2l.keys()) and (arg not in dic_l2n.keys()):\n",
    "        return None\n",
    "    \n",
    "    try: \n",
    "        return dic_n2l[arg]\n",
    "    except:\n",
    "        return dic_l2n[arg]"
   ]
  },
  {
   "cell_type": "code",
   "execution_count": 2,
   "metadata": {
    "ExecuteTime": {
     "end_time": "2019-03-17T05:11:28.528426Z",
     "start_time": "2019-03-17T05:11:28.521668Z"
    }
   },
   "outputs": [],
   "source": [
    "# Approach #2\n",
    "\n",
    "def translate2(arg):\n",
    "    \n",
    "    if arg is None:\n",
    "        return None\n",
    "    \n",
    "    lis_num = range(1, 4)\n",
    "    lis_let = ['a', 'b', 'c']\n",
    "    \n",
    "    dic_n2l = {n:l for n, l in zip(lis_num, lis_let)}\n",
    "    dic_l2n = {l:n for n, l in zip(lis_num, lis_let)}\n",
    "    \n",
    "    if (arg not in dic_n2l.keys()) and (arg not in dic_l2n.keys()):\n",
    "        return None\n",
    "    \n",
    "    try: \n",
    "        return dic_n2l[arg]\n",
    "    except:\n",
    "        return dic_l2n[arg]"
   ]
  },
  {
   "cell_type": "code",
   "execution_count": 3,
   "metadata": {
    "ExecuteTime": {
     "end_time": "2019-03-17T05:11:28.543002Z",
     "start_time": "2019-03-17T05:11:28.532093Z"
    }
   },
   "outputs": [
    {
     "name": "stdout",
     "output_type": "stream",
     "text": [
      "3\n",
      "b\n",
      "3\n",
      "b\n"
     ]
    }
   ],
   "source": [
    "print(translate1('c'))\n",
    "print(translate1(2))\n",
    "print(translate2('c'))\n",
    "print(translate2(2))"
   ]
  },
  {
   "cell_type": "code",
   "execution_count": 4,
   "metadata": {
    "ExecuteTime": {
     "end_time": "2019-03-17T05:11:28.557853Z",
     "start_time": "2019-03-17T05:11:28.545597Z"
    }
   },
   "outputs": [],
   "source": [
    "# Approach 3: Class Solution\n",
    "\n",
    "class Translate:\n",
    "    def __init__(self):\n",
    "        lis_num = range(1, 4)\n",
    "        lis_let = ['a', 'b', 'c']\n",
    "        self.dic_n2l = {n:l for n, l in zip(lis_num, lis_let)}\n",
    "        self.dic_l2n = {l:n for n, l in zip(lis_num, lis_let)}\n",
    "    def lookup(self, arg):\n",
    "        if type(arg) == type('abc'):\n",
    "            self.lookup_let(arg)\n",
    "        elif type(arg) == type(123):\n",
    "            self.lookup_num(arg)\n",
    "        else: \n",
    "            return 'Error'\n",
    "    def lookup_num(self, num):\n",
    "        return self.dic_n2l[num]\n",
    "    def lookup_let(self, let):\n",
    "        return self.dic_l2n['b']  "
   ]
  }
 ],
 "metadata": {
  "kernelspec": {
   "display_name": "Python 3",
   "language": "python",
   "name": "python3"
  },
  "language_info": {
   "codemirror_mode": {
    "name": "ipython",
    "version": 3
   },
   "file_extension": ".py",
   "mimetype": "text/x-python",
   "name": "python",
   "nbconvert_exporter": "python",
   "pygments_lexer": "ipython3",
   "version": "3.7.3"
  },
  "toc": {
   "base_numbering": 1,
   "nav_menu": {},
   "number_sections": true,
   "sideBar": true,
   "skip_h1_title": false,
   "title_cell": "Table of Contents",
   "title_sidebar": "Contents",
   "toc_cell": false,
   "toc_position": {},
   "toc_section_display": true,
   "toc_window_display": false
  },
  "varInspector": {
   "cols": {
    "lenName": 16,
    "lenType": 16,
    "lenVar": 40
   },
   "kernels_config": {
    "python": {
     "delete_cmd_postfix": "",
     "delete_cmd_prefix": "del ",
     "library": "var_list.py",
     "varRefreshCmd": "print(var_dic_list())"
    },
    "r": {
     "delete_cmd_postfix": ") ",
     "delete_cmd_prefix": "rm(",
     "library": "var_list.r",
     "varRefreshCmd": "cat(var_dic_list()) "
    }
   },
   "types_to_exclude": [
    "module",
    "function",
    "builtin_function_or_method",
    "instance",
    "_Feature"
   ],
   "window_display": false
  }
 },
 "nbformat": 4,
 "nbformat_minor": 2
}
