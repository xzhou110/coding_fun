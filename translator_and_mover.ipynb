{
 "cells": [
  {
   "cell_type": "markdown",
   "metadata": {},
   "source": [
    "Create a Translator that be able to translate from letters to numbers, and numbers from letters."
   ]
  },
  {
   "cell_type": "code",
   "execution_count": 1,
   "metadata": {
    "ExecuteTime": {
     "end_time": "2019-03-17T05:11:28.515719Z",
     "start_time": "2019-03-17T05:11:28.508210Z"
    }
   },
   "outputs": [],
   "source": [
    "# Approach #1\n",
    "\n",
    "def translate1(arg):\n",
    "    \n",
    "    if arg is None:\n",
    "        return None\n",
    "    \n",
    "    lis_num = range(1,4)\n",
    "    lis_letter = ['a', 'b', 'c']\n",
    "    dic_n2l = {}\n",
    "    \n",
    "    for index, value in enumerate(lis_num):\n",
    "        dic_n2l[value] = lis_letter[index]\n",
    "    \n",
    "    dic_l2n = {value: key for key, value in dic_n2l.items()}\n",
    "    \n",
    "    if (arg not in dic_n2l.keys()) and (arg not in dic_l2n.keys()):\n",
    "        return None\n",
    "    \n",
    "    try: \n",
    "        return dic_n2l[arg]\n",
    "    except:\n",
    "        return dic_l2n[arg]"
   ]
  },
  {
   "cell_type": "code",
   "execution_count": 2,
   "metadata": {
    "ExecuteTime": {
     "end_time": "2019-03-17T05:11:28.528426Z",
     "start_time": "2019-03-17T05:11:28.521668Z"
    }
   },
   "outputs": [],
   "source": [
    "# Approach #2\n",
    "\n",
    "def translate2(arg):\n",
    "    \n",
    "    if arg is None:\n",
    "        return None\n",
    "    \n",
    "    lis_num = range(1, 4)\n",
    "    lis_let = ['a', 'b', 'c']\n",
    "    \n",
    "    dic_n2l = {n:l for n, l in zip(lis_num, lis_let)}\n",
    "    dic_l2n = {l:n for n, l in zip(lis_num, lis_let)}\n",
    "    \n",
    "    if (arg not in dic_n2l.keys()) and (arg not in dic_l2n.keys()):\n",
    "        return None\n",
    "    \n",
    "    try: \n",
    "        return dic_n2l[arg]\n",
    "    except:\n",
    "        return dic_l2n[arg]"
   ]
  },
  {
   "cell_type": "code",
   "execution_count": 3,
   "metadata": {
    "ExecuteTime": {
     "end_time": "2019-03-17T05:11:28.543002Z",
     "start_time": "2019-03-17T05:11:28.532093Z"
    }
   },
   "outputs": [
    {
     "name": "stdout",
     "output_type": "stream",
     "text": [
      "3\n",
      "b\n",
      "3\n",
      "b\n"
     ]
    }
   ],
   "source": [
    "print(translate1('c'))\n",
    "print(translate1(2))\n",
    "print(translate2('c'))\n",
    "print(translate2(2))"
   ]
  },
  {
   "cell_type": "code",
   "execution_count": 4,
   "metadata": {
    "ExecuteTime": {
     "end_time": "2019-03-17T05:11:28.557853Z",
     "start_time": "2019-03-17T05:11:28.545597Z"
    }
   },
   "outputs": [],
   "source": [
    "# Approach 3: Class Solution\n",
    "\n",
    "class Translate:\n",
    "    def __init__(self):\n",
    "        lis_num = range(1, 4)\n",
    "        lis_let = ['a', 'b', 'c']\n",
    "        self.dic_n2l = {n:l for n, l in zip(lis_num, lis_let)}\n",
    "        self.dic_l2n = {l:n for n, l in zip(lis_num, lis_let)}\n",
    "    def lookup(self, arg):\n",
    "        if type(arg) == type('abc'):\n",
    "            self.lookup_let(arg)\n",
    "        elif type(arg) == type(123):\n",
    "            self.lookup_num(arg)\n",
    "        else: \n",
    "            return 'Error'\n",
    "    def lookup_num(self, num):\n",
    "        return self.dic_n2l[num]\n",
    "    def lookup_let(self, let):\n",
    "        return self.dic_l2n['b']  "
   ]
  },
  {
   "cell_type": "code",
   "execution_count": 5,
   "metadata": {
    "ExecuteTime": {
     "end_time": "2019-03-18T05:37:39.039926Z",
     "start_time": "2019-03-18T05:37:39.036784Z"
    }
   },
   "outputs": [],
   "source": [
    "n=5"
   ]
  },
  {
   "cell_type": "code",
   "execution_count": 14,
   "metadata": {
    "ExecuteTime": {
     "end_time": "2019-03-18T05:45:41.724125Z",
     "start_time": "2019-03-18T05:45:41.717889Z"
    }
   },
   "outputs": [
    {
     "data": {
      "text/plain": [
       "[[0, 1, 2, 3, 4],\n",
       " [5, 6, 7, 8, 9],\n",
       " [10, 11, 12, 13, 14],\n",
       " [15, 16, 17, 18, 19],\n",
       " [20, 21, 22, 23, 24]]"
      ]
     },
     "execution_count": 14,
     "metadata": {},
     "output_type": "execute_result"
    }
   ],
   "source": [
    "a =[[j*n+i for i in range(n)] for j in range(n)]\n",
    "a"
   ]
  },
  {
   "cell_type": "code",
   "execution_count": 26,
   "metadata": {
    "ExecuteTime": {
     "end_time": "2019-03-18T06:00:50.465162Z",
     "start_time": "2019-03-18T06:00:50.458541Z"
    }
   },
   "outputs": [],
   "source": [
    "def roverMove(matrixSize, cmds):\n",
    "    matrix = [[i+j*matrixSize for i in range(matrixSize)] for j in range(matrixSize)]\n",
    "    print(matrix)\n",
    "\n",
    "    # Define starting point\n",
    "    cur_x, cur_y = 0, 0\n",
    "    for i in range(len(cmds)):\n",
    "        label, cur_x, cur_y = move(cmds[i], matrix, cur_x, cur_y)\n",
    "        print(label, cur_x, cur_y)\n",
    "\n",
    "    return label\n",
    "\n",
    "def move(cmd, matrix, cur_x, cur_y):\n",
    "    if cmd == 'LEFT':\n",
    "        x = cur_x \n",
    "        y = cur_y -1  \n",
    "    elif cmd == 'RIGHT':\n",
    "        x = cur_x \n",
    "        y = cur_y +1 \n",
    "    elif cmd == 'UP':\n",
    "        x = cur_x -1\n",
    "        y = cur_y \n",
    "    elif cmd == 'DOWN':\n",
    "        x = cur_x +1\n",
    "        y = cur_y \n",
    "    else:\n",
    "        return None\n",
    "    \n",
    "    # Check for boundary\n",
    "    if 0<=x<len(matrix) and 0<=y<len(matrix):\n",
    "        return matrix[x][y], x, y\n",
    "    else:\n",
    "        return matrix[cur_x][cur_y], cur_x, cur_y"
   ]
  },
  {
   "cell_type": "code",
   "execution_count": 27,
   "metadata": {
    "ExecuteTime": {
     "end_time": "2019-03-18T06:00:51.127545Z",
     "start_time": "2019-03-18T06:00:51.118274Z"
    }
   },
   "outputs": [
    {
     "name": "stdout",
     "output_type": "stream",
     "text": [
      "[[0, 1, 2, 3], [4, 5, 6, 7], [8, 9, 10, 11], [12, 13, 14, 15]]\n",
      "0 0 0\n",
      "4 1 0\n",
      "5 1 1\n",
      "6 1 2\n"
     ]
    },
    {
     "data": {
      "text/plain": [
       "6"
      ]
     },
     "execution_count": 27,
     "metadata": {},
     "output_type": "execute_result"
    }
   ],
   "source": [
    "roverMove(4, ['UP', 'RIGHT', 'DOWN', 'DOWN'])"
   ]
  }
 ],
 "metadata": {
  "kernelspec": {
   "display_name": "Python 3",
   "language": "python",
   "name": "python3"
  },
  "language_info": {
   "codemirror_mode": {
    "name": "ipython",
    "version": 3
   },
   "file_extension": ".py",
   "mimetype": "text/x-python",
   "name": "python",
   "nbconvert_exporter": "python",
   "pygments_lexer": "ipython3",
   "version": "3.6.8"
  },
  "toc": {
   "base_numbering": 1,
   "nav_menu": {},
   "number_sections": true,
   "sideBar": true,
   "skip_h1_title": false,
   "title_cell": "Table of Contents",
   "title_sidebar": "Contents",
   "toc_cell": false,
   "toc_position": {},
   "toc_section_display": true,
   "toc_window_display": false
  },
  "varInspector": {
   "cols": {
    "lenName": 16,
    "lenType": 16,
    "lenVar": 40
   },
   "kernels_config": {
    "python": {
     "delete_cmd_postfix": "",
     "delete_cmd_prefix": "del ",
     "library": "var_list.py",
     "varRefreshCmd": "print(var_dic_list())"
    },
    "r": {
     "delete_cmd_postfix": ") ",
     "delete_cmd_prefix": "rm(",
     "library": "var_list.r",
     "varRefreshCmd": "cat(var_dic_list()) "
    }
   },
   "types_to_exclude": [
    "module",
    "function",
    "builtin_function_or_method",
    "instance",
    "_Feature"
   ],
   "window_display": false
  }
 },
 "nbformat": 4,
 "nbformat_minor": 2
}
