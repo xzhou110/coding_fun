{
 "cells": [
  {
   "cell_type": "markdown",
   "metadata": {},
   "source": [
    "Implement a function that assigns correct numbers in a field of Minesweeper, which is represented as a 2 dimensional array\n",
    "Expected result: mine_sweeper(bombs, num_rows, num_columns)\n",
    "-  bombs: a list of bomb locations\n",
    "-  num_rows: rows in the field\n",
    "-  num_columns: columns in the field"
   ]
  },
  {
   "cell_type": "code",
   "execution_count": 1,
   "metadata": {
    "ExecuteTime": {
     "end_time": "2019-03-08T06:07:52.037103Z",
     "start_time": "2019-03-08T06:07:51.964631Z"
    }
   },
   "outputs": [],
   "source": [
    "# Approach #1: Longer approach\n",
    "\n",
    "def mine_sweeper1(bombs, num_rows, num_cols):\n",
    "    # NOTE: field = [[0] * num_cols] * num_rows would not work\n",
    "    # because you need to create a new list for every row,\n",
    "    # instead of copying the same list.\n",
    "    field = [[0 for i in range(num_cols)] for j in range(num_rows)]\n",
    "    for pos in bombs:\n",
    "        field[pos[0]][pos[1]] = -1\n",
    "    for pos in bombs: \n",
    "        assign_values(field, pos)\n",
    "\n",
    "    return field\n",
    "    \n",
    "def assign_values(field, pos):\n",
    "    # Assign values to surrounding cells of bomb\n",
    "    for i in range(pos[0]-1, pos[0]+2):\n",
    "        for j in range(pos[1]-1, pos[1]+2):\n",
    "            if (i!=pos[0] or j!=pos[1]) and 0<=i<len(field) and 0<=j<len(field[0]):\n",
    "                field[i][j] = bomb_count(field, i, j)\n",
    "\n",
    "    return field\n",
    "\n",
    "def bomb_count(field, i, j):\n",
    "    # Count the surrounding bombs and assign the count to the cell\n",
    "    count = 0\n",
    "    if field[i][j] == -1:\n",
    "        return -1\n",
    "    for k in range(i-1, i+2):\n",
    "        for l in range(j-1, j+2):\n",
    "            if (k!=i or l!=j) and 0<=k<len(field) and 0<=l<len(field[0]):\n",
    "                if field[k][l] == -1:\n",
    "                    count+=1\n",
    "    return count\n",
    "                \n",
    "# NOTE: Feel free to use the following function for testing.\n",
    "# It converts a 2-dimensional array (a list of lists) into\n",
    "# an easy-to-read string format.\n",
    "def to_string(given_array):\n",
    "    list_rows = []\n",
    "    for row in given_array:\n",
    "        list_rows.append(str(row))\n",
    "    return '[' + ',\\n '.join(list_rows) + ']'"
   ]
  },
  {
   "cell_type": "code",
   "execution_count": 2,
   "metadata": {
    "ExecuteTime": {
     "end_time": "2019-03-08T06:07:52.055066Z",
     "start_time": "2019-03-08T06:07:52.050821Z"
    }
   },
   "outputs": [],
   "source": [
    "# NOTE: The following input values will be used for testing your solution.\n",
    "# mine_sweeper([[0, 2], [2, 0]], 3, 3) should return:\n",
    "# [[0, 1, -1],\n",
    "#  [1, 2, 1],\n",
    "#  [-1, 1, 0]]\n",
    "\n",
    "# mine_sweeper([[0, 0], [0, 1], [1, 2]], 3, 4) should return:\n",
    "# [[-1, -1, 2, 1],\n",
    "#  [2, 3, -1, 1],\n",
    "#  [0, 1, 1, 1]]\n",
    "\n",
    "# mine_sweeper([[1, 1], [1, 2], [2, 2], [4, 3]], 5, 5) should return:\n",
    "# [[1, 2, 2, 1, 0],\n",
    "#  [1, -1, -1, 2, 0],\n",
    "#  [1, 3, -1, 2, 0],\n",
    "#  [0, 1, 2, 2, 1],\n",
    "#  [0, 0, 1, -1, 1]]"
   ]
  },
  {
   "cell_type": "code",
   "execution_count": 3,
   "metadata": {
    "ExecuteTime": {
     "end_time": "2019-03-08T06:07:52.096314Z",
     "start_time": "2019-03-08T06:07:52.069259Z"
    }
   },
   "outputs": [
    {
     "name": "stdout",
     "output_type": "stream",
     "text": [
      "[[0, 1, -1], [1, 2, 1], [-1, 1, 0]]\n",
      "[[-1, -1, 2, 1], [2, 3, -1, 1], [0, 1, 1, 1]]\n",
      "[[1, 2, 2, 1, 0], [1, -1, -1, 2, 0], [1, 3, -1, 2, 0], [0, 1, 2, 2, 1], [0, 0, 1, -1, 1]]\n"
     ]
    }
   ],
   "source": [
    "print(mine_sweeper([[0, 2], [2, 0]], 3, 3))\n",
    "print(mine_sweeper([[0, 0], [0, 1], [1, 2]], 3, 4))\n",
    "print(mine_sweeper([[1, 1], [1, 2], [2, 2], [4, 3]], 5, 5))"
   ]
  },
  {
   "cell_type": "code",
   "execution_count": 24,
   "metadata": {
    "ExecuteTime": {
     "end_time": "2019-12-02T06:15:39.431251Z",
     "start_time": "2019-12-02T06:15:39.428457Z"
    }
   },
   "outputs": [],
   "source": [
    "a = [[0, 1], [2, 3]]"
   ]
  },
  {
   "cell_type": "code",
   "execution_count": 25,
   "metadata": {
    "ExecuteTime": {
     "end_time": "2019-12-02T06:15:48.705404Z",
     "start_time": "2019-12-02T06:15:48.701584Z"
    }
   },
   "outputs": [
    {
     "data": {
      "text/plain": [
       "1"
      ]
     },
     "execution_count": 25,
     "metadata": {},
     "output_type": "execute_result"
    }
   ],
   "source": [
    "a[0][1]"
   ]
  },
  {
   "cell_type": "code",
   "execution_count": null,
   "metadata": {},
   "outputs": [],
   "source": [
    "# Approach #2: shorter approach\n",
    "\n"
   ]
  },
  {
   "cell_type": "code",
   "execution_count": 1,
   "metadata": {
    "ExecuteTime": {
     "end_time": "2019-12-01T02:55:09.046549Z",
     "start_time": "2019-12-01T02:55:09.044136Z"
    }
   },
   "outputs": [],
   "source": [
    "import numpy as np"
   ]
  },
  {
   "cell_type": "code",
   "execution_count": 22,
   "metadata": {
    "ExecuteTime": {
     "end_time": "2019-12-02T06:13:53.445653Z",
     "start_time": "2019-12-02T06:13:53.441531Z"
    }
   },
   "outputs": [
    {
     "data": {
      "text/plain": [
       "[[0.0, 0.0, 0.0], [0.0, 0.0, 0.0], [0.0, 0.0, 0.0], [0.0, 0.0, 0.0]]"
      ]
     },
     "execution_count": 22,
     "metadata": {},
     "output_type": "execute_result"
    }
   ],
   "source": [
    "field = np.zeros((4,3)).tolist()\n",
    "field"
   ]
  },
  {
   "cell_type": "code",
   "execution_count": 50,
   "metadata": {
    "ExecuteTime": {
     "end_time": "2019-12-02T06:37:20.331492Z",
     "start_time": "2019-12-02T06:37:20.325875Z"
    }
   },
   "outputs": [],
   "source": [
    "# Approach #2: shorter approach\n",
    "# optimal approach\n",
    "\n",
    "def mine_sweeper2(bombs, num_rows, num_cols):\n",
    "    # NOTE: field = [[0] * num_cols] * num_rows would not work\n",
    "    # because you need to create a new list for every row,\n",
    "    # instead of copying the same list.\n",
    "\n",
    "    field = np.zeros((num_rows, num_cols)).tolist()\n",
    "    \n",
    "    for bomb in bombs:\n",
    "        row_i = bomb[0]\n",
    "        col_i = bomb[1]\n",
    "        field[row_i][col_i] = -1\n",
    "        \n",
    "        \n",
    "        # loop when assigning bomb position\n",
    "        # for each 9 surrending cell ++1\n",
    "        for i in range(row_i-1, row_i+2):\n",
    "            for j in range(col_i-1, col_i+2):\n",
    "                if 0<=i<len(field) and 0<=j<len(field[0]) and field[i][j]!=-1:\n",
    "                    field[i][j]+=1\n",
    "    \n",
    "\n",
    "    return field\n",
    "    \n",
    "    \n",
    "    \n",
    "#     for i in range(len(field)):\n",
    "#         for j in range(len(field[0])):\n",
    "#             if field[i][j]!= -1:\n",
    "#                 count = 0\n",
    "#                 for k in range(i-1, i+2):\n",
    "#                     for l in range(j-1, j+2):\n",
    "#                         # k, l can go negative and still work, so below is must\n",
    "#                         if 0<=k<=len(field) and 0<=l<=len(field[0]):\n",
    "#                             try: \n",
    "#                                 if field[k][l]==-1:\n",
    "#                                     count+=1\n",
    "#                             except:\n",
    "#                                 continue\n",
    "#                 field[i][j] = count\n",
    "    \n",
    "#    return field                           "
   ]
  },
  {
   "cell_type": "code",
   "execution_count": 48,
   "metadata": {
    "ExecuteTime": {
     "end_time": "2019-12-02T06:31:44.091556Z",
     "start_time": "2019-12-02T06:31:44.087561Z"
    }
   },
   "outputs": [
    {
     "data": {
      "text/plain": [
       "[[0.0, 0.0, 0.0], [0.0, 0.0, 0.0], [0.0, 0.0, 0.0], [0.0, 0.0, 0.0]]"
      ]
     },
     "execution_count": 48,
     "metadata": {},
     "output_type": "execute_result"
    }
   ],
   "source": [
    "field"
   ]
  },
  {
   "cell_type": "code",
   "execution_count": 51,
   "metadata": {
    "ExecuteTime": {
     "end_time": "2019-12-02T06:37:24.801552Z",
     "start_time": "2019-12-02T06:37:24.796706Z"
    }
   },
   "outputs": [
    {
     "name": "stdout",
     "output_type": "stream",
     "text": [
      "[[0.0, 1.0, -1], [1.0, 2.0, 1.0], [-1, 1.0, 0.0]]\n",
      "[[-1, -1, 2.0, 1.0], [2.0, 3.0, -1, 1.0], [0.0, 1.0, 1.0, 1.0]]\n",
      "[[1.0, 2.0, 2.0, 1.0, 0.0], [1.0, -1, -1, 2.0, 0.0], [1.0, 3.0, -1, 2.0, 0.0], [0.0, 1.0, 2.0, 2.0, 1.0], [0.0, 0.0, 1.0, -1, 1.0]]\n"
     ]
    }
   ],
   "source": [
    "print(mine_sweeper2([[0, 2], [2, 0]], 3, 3))\n",
    "print(mine_sweeper2([[0, 0], [0, 1], [1, 2]], 3, 4))\n",
    "print(mine_sweeper2([[1, 1], [1, 2], [2, 2], [4, 3]], 5, 5))"
   ]
  },
  {
   "cell_type": "code",
   "execution_count": 1,
   "metadata": {
    "ExecuteTime": {
     "end_time": "2020-09-07T09:00:23.361709Z",
     "start_time": "2020-09-07T09:00:23.355643Z"
    }
   },
   "outputs": [],
   "source": [
    "import numpy as np"
   ]
  },
  {
   "cell_type": "code",
   "execution_count": 4,
   "metadata": {
    "ExecuteTime": {
     "end_time": "2020-09-07T09:00:57.381838Z",
     "start_time": "2020-09-07T09:00:57.371080Z"
    }
   },
   "outputs": [
    {
     "data": {
      "text/plain": [
       "[[0.0, 0.0, 0.0, 0.0],\n",
       " [0.0, 0.0, 0.0, 0.0],\n",
       " [0.0, 0.0, 0.0, 0.0],\n",
       " [0.0, 0.0, 0.0, 0.0],\n",
       " [0.0, 0.0, 0.0, 0.0],\n",
       " [0.0, 0.0, 0.0, 0.0]]"
      ]
     },
     "execution_count": 4,
     "metadata": {},
     "output_type": "execute_result"
    }
   ],
   "source": [
    "np.zeros([6,4]).tolist()"
   ]
  },
  {
   "cell_type": "code",
   "execution_count": 10,
   "metadata": {
    "ExecuteTime": {
     "end_time": "2020-09-07T09:16:54.774562Z",
     "start_time": "2020-09-07T09:16:54.767687Z"
    }
   },
   "outputs": [],
   "source": [
    "# Practice\n",
    "\n",
    "def mine_sweeper3(bombs, no_rows, no_cols):\n",
    "    field = np.zeros([no_rows, no_cols]).tolist()\n",
    "    \n",
    "    for bomb in bombs:\n",
    "        field[bomb[0]][bomb[1]] = -1\n",
    "    i = 0\n",
    "    j = 0\n",
    "    for i in range(no_rows):\n",
    "        for j in range(no_cols):\n",
    "            if field[i][j]!=-1:\n",
    "                mine_count = 0\n",
    "                for k in range (i-1, i+2):\n",
    "                    for l in range (j-1, j+2):\n",
    "                        if 0<=k< no_rows and 0<=l<no_cols:\n",
    "                            if field[k][l] == -1:\n",
    "                                mine_count+=1\n",
    "                field[i][j] = mine_count\n",
    "    return field"
   ]
  },
  {
   "cell_type": "code",
   "execution_count": 11,
   "metadata": {
    "ExecuteTime": {
     "end_time": "2020-09-07T09:16:55.271458Z",
     "start_time": "2020-09-07T09:16:55.263252Z"
    }
   },
   "outputs": [
    {
     "name": "stdout",
     "output_type": "stream",
     "text": [
      "[[0, 1, -1], [1, 2, 1], [-1, 1, 0]]\n",
      "[[-1, -1, 2, 1], [2, 3, -1, 1], [0, 1, 1, 1]]\n",
      "[[1, 2, 2, 1, 0], [1, -1, -1, 2, 0], [1, 3, -1, 2, 0], [0, 1, 2, 2, 1], [0, 0, 1, -1, 1]]\n"
     ]
    }
   ],
   "source": [
    "print(mine_sweeper3([[0, 2], [2, 0]], 3, 3))\n",
    "print(mine_sweeper3([[0, 0], [0, 1], [1, 2]], 3, 4))\n",
    "print(mine_sweeper3([[1, 1], [1, 2], [2, 2], [4, 3]], 5, 5))"
   ]
  },
  {
   "cell_type": "code",
   "execution_count": null,
   "metadata": {},
   "outputs": [],
   "source": []
  }
 ],
 "metadata": {
  "kernelspec": {
   "display_name": "Python 3",
   "language": "python",
   "name": "python3"
  },
  "language_info": {
   "codemirror_mode": {
    "name": "ipython",
    "version": 3
   },
   "file_extension": ".py",
   "mimetype": "text/x-python",
   "name": "python",
   "nbconvert_exporter": "python",
   "pygments_lexer": "ipython3",
   "version": "3.6.8"
  },
  "toc": {
   "base_numbering": 1,
   "nav_menu": {},
   "number_sections": true,
   "sideBar": true,
   "skip_h1_title": false,
   "title_cell": "Table of Contents",
   "title_sidebar": "Contents",
   "toc_cell": false,
   "toc_position": {},
   "toc_section_display": true,
   "toc_window_display": false
  },
  "varInspector": {
   "cols": {
    "lenName": 16,
    "lenType": 16,
    "lenVar": 40
   },
   "kernels_config": {
    "python": {
     "delete_cmd_postfix": "",
     "delete_cmd_prefix": "del ",
     "library": "var_list.py",
     "varRefreshCmd": "print(var_dic_list())"
    },
    "r": {
     "delete_cmd_postfix": ") ",
     "delete_cmd_prefix": "rm(",
     "library": "var_list.r",
     "varRefreshCmd": "cat(var_dic_list()) "
    }
   },
   "types_to_exclude": [
    "module",
    "function",
    "builtin_function_or_method",
    "instance",
    "_Feature"
   ],
   "window_display": false
  }
 },
 "nbformat": 4,
 "nbformat_minor": 2
}
