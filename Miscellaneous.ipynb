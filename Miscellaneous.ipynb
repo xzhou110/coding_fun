{
 "cells": [
  {
   "cell_type": "markdown",
   "metadata": {},
   "source": [
    "# Arrays"
   ]
  },
  {
   "cell_type": "markdown",
   "metadata": {},
   "source": [
    "## Most Frequent Item\n",
    "Assumption: There is always a single most frequent item"
   ]
  },
  {
   "cell_type": "code",
   "execution_count": 15,
   "metadata": {
    "ExecuteTime": {
     "end_time": "2019-11-25T02:18:20.127897Z",
     "start_time": "2019-11-25T02:18:20.123226Z"
    }
   },
   "outputs": [],
   "source": [
    "def most_frequent(given_list):\n",
    "    if given_list is None:\n",
    "        return None\n",
    "    dic = {}\n",
    "    max_count = -1\n",
    "    max_item = None\n",
    "    for i in given_list:\n",
    "        if dic.get(i):\n",
    "            dic[i]+=1\n",
    "        else:\n",
    "            dic[i]=1\n",
    "        if dic[i]> max_count:\n",
    "            max_count = dic[i]\n",
    "            max_item = i\n",
    "    \n",
    "    return max_item"
   ]
  },
  {
   "cell_type": "code",
   "execution_count": 22,
   "metadata": {
    "ExecuteTime": {
     "end_time": "2019-11-25T02:18:39.499684Z",
     "start_time": "2019-11-25T02:18:39.496226Z"
    }
   },
   "outputs": [
    {
     "data": {
      "text/plain": [
       "3"
      ]
     },
     "execution_count": 22,
     "metadata": {},
     "output_type": "execute_result"
    }
   ],
   "source": [
    "most_frequent([1, 2, 3, 4, 1, 1, 3, 3, 3])"
   ]
  },
  {
   "cell_type": "markdown",
   "metadata": {},
   "source": [
    "## Common element of two lists <p>\n",
    "Both lists are sorted in ascending order"
   ]
  },
  {
   "cell_type": "markdown",
   "metadata": {},
   "source": [
    "Approach #1"
   ]
  },
  {
   "cell_type": "code",
   "execution_count": 23,
   "metadata": {
    "ExecuteTime": {
     "end_time": "2019-11-25T02:21:30.428673Z",
     "start_time": "2019-11-25T02:21:30.425980Z"
    }
   },
   "outputs": [],
   "source": [
    "A = [1, 3, 4, 6, 7, 9]\n",
    "B = [1, 2, 4, 5, 9, 10]"
   ]
  },
  {
   "cell_type": "code",
   "execution_count": 35,
   "metadata": {
    "ExecuteTime": {
     "end_time": "2019-11-25T02:41:34.388010Z",
     "start_time": "2019-11-25T02:41:34.383814Z"
    }
   },
   "outputs": [
    {
     "data": {
      "text/plain": [
       "{1, 4, 9}"
      ]
     },
     "execution_count": 35,
     "metadata": {},
     "output_type": "execute_result"
    }
   ],
   "source": [
    "a = set(A)\n",
    "b = set(B)\n",
    "c = a&b\n",
    "c"
   ]
  },
  {
   "cell_type": "markdown",
   "metadata": {},
   "source": [
    "Approach #2"
   ]
  },
  {
   "cell_type": "code",
   "execution_count": 33,
   "metadata": {
    "ExecuteTime": {
     "end_time": "2019-11-25T02:37:19.724951Z",
     "start_time": "2019-11-25T02:37:19.720404Z"
    }
   },
   "outputs": [],
   "source": [
    "def common_elements(A, B):\n",
    "\n",
    "    lis_common = []\n",
    "    \n",
    "    # p1 and p2 are pointers\n",
    "    p1 = p2 = 0\n",
    "    while p1 < len(a) and p2 < len(b):\n",
    "        if A[p1] < B[p2]:\n",
    "            p1+=1\n",
    "        elif A[p1] > B[p2]:\n",
    "            p2+=1\n",
    "        else:\n",
    "            lis_common.append(A[p1])\n",
    "            p1+=1\n",
    "            p2+=1\n",
    "    return lis_common\n",
    "    "
   ]
  },
  {
   "cell_type": "code",
   "execution_count": 34,
   "metadata": {
    "ExecuteTime": {
     "end_time": "2019-11-25T02:37:20.403048Z",
     "start_time": "2019-11-25T02:37:20.398320Z"
    }
   },
   "outputs": [
    {
     "data": {
      "text/plain": [
       "[1, 4, 9]"
      ]
     },
     "execution_count": 34,
     "metadata": {},
     "output_type": "execute_result"
    }
   ],
   "source": [
    "common_elements(A, B)"
   ]
  },
  {
   "cell_type": "markdown",
   "metadata": {},
   "source": [
    "## Is one array rotation of another?"
   ]
  },
  {
   "cell_type": "code",
   "execution_count": 36,
   "metadata": {
    "ExecuteTime": {
     "end_time": "2019-11-25T02:47:04.515960Z",
     "start_time": "2019-11-25T02:47:04.511454Z"
    }
   },
   "outputs": [],
   "source": [
    "# NOTE: The following input values will be used for testing your solution.\n",
    "list1 = [1, 2, 3, 4, 5, 6, 7]\n",
    "list2a = [4, 5, 6, 7, 8, 1, 2, 3]\n",
    "# is_rotation(list1, list2a) should return False.\n",
    "list2b = [4, 5, 6, 7, 1, 2, 3]\n",
    "# is_rotation(list1, list2b) should return True.\n",
    "list2c = [4, 5, 6, 9, 1, 2, 3]\n",
    "# is_rotation(list1, list2c) should return False.\n",
    "list2d = [4, 6, 5, 7, 1, 2, 3]\n",
    "# is_rotation(list1, list2d) should return False.\n",
    "list2e = [4, 5, 6, 7, 0, 2, 3]\n",
    "# is_rotation(list1, list2e) should return False.\n",
    "list2f = [1, 2, 3, 4, 5, 6, 7]\n",
    "# is_rotation(list1, list2f) should return True."
   ]
  },
  {
   "cell_type": "code",
   "execution_count": 39,
   "metadata": {
    "ExecuteTime": {
     "end_time": "2019-11-25T02:57:08.906941Z",
     "start_time": "2019-11-25T02:57:08.904756Z"
    }
   },
   "outputs": [],
   "source": [
    "a = [1,2, 3]\n",
    "b = [4, 3, 5]"
   ]
  },
  {
   "cell_type": "code",
   "execution_count": 40,
   "metadata": {
    "ExecuteTime": {
     "end_time": "2019-11-25T02:57:09.248437Z",
     "start_time": "2019-11-25T02:57:09.244629Z"
    }
   },
   "outputs": [
    {
     "data": {
      "text/plain": [
       "[1, 2, 3, 4, 3, 5]"
      ]
     },
     "execution_count": 40,
     "metadata": {},
     "output_type": "execute_result"
    }
   ],
   "source": [
    "a.extend(b)\n",
    "a"
   ]
  },
  {
   "cell_type": "code",
   "execution_count": 111,
   "metadata": {
    "ExecuteTime": {
     "end_time": "2019-11-25T03:19:12.421618Z",
     "start_time": "2019-11-25T03:19:12.416622Z"
    }
   },
   "outputs": [],
   "source": [
    "def is_rotate(list1, list2):\n",
    "    if len(list1)!=len(list2):\n",
    "        return False\n",
    "    else:\n",
    "        flag = False\n",
    "        key = 0\n",
    "        # use pointers\n",
    "        p1 = p2 = 0\n",
    "        while p1 < len(list1) and p2 < len(list2):\n",
    "            if list1[p1]!=list2[p2]:\n",
    "                p2+=1\n",
    "            else: \n",
    "                key = p2\n",
    "                break\n",
    "        \n",
    "        first_half = list2[key:]\n",
    "        last_half = list2[:key]\n",
    "        first_half.extend(last_half)\n",
    "        \n",
    "        if list1 == first_half:\n",
    "            flag = True\n",
    "        return flag\n",
    "                "
   ]
  },
  {
   "cell_type": "code",
   "execution_count": 112,
   "metadata": {
    "ExecuteTime": {
     "end_time": "2019-11-25T03:19:12.884025Z",
     "start_time": "2019-11-25T03:19:12.879425Z"
    }
   },
   "outputs": [
    {
     "name": "stdout",
     "output_type": "stream",
     "text": [
      "False\n",
      "True\n",
      "False\n",
      "False\n",
      "False\n",
      "True\n"
     ]
    }
   ],
   "source": [
    "print(is_rotate(list1, list2a))\n",
    "print(is_rotate(list1, list2b))\n",
    "print(is_rotate(list1, list2c))\n",
    "print(is_rotate(list1, list2d))\n",
    "print(is_rotate(list1, list2e))\n",
    "print(is_rotate(list1, list2f))"
   ]
  },
  {
   "cell_type": "code",
   "execution_count": null,
   "metadata": {},
   "outputs": [],
   "source": []
  },
  {
   "cell_type": "code",
   "execution_count": null,
   "metadata": {},
   "outputs": [],
   "source": []
  }
 ],
 "metadata": {
  "kernelspec": {
   "display_name": "Python 3",
   "language": "python",
   "name": "python3"
  },
  "language_info": {
   "codemirror_mode": {
    "name": "ipython",
    "version": 3
   },
   "file_extension": ".py",
   "mimetype": "text/x-python",
   "name": "python",
   "nbconvert_exporter": "python",
   "pygments_lexer": "ipython3",
   "version": "3.7.3"
  },
  "toc": {
   "base_numbering": 1,
   "nav_menu": {},
   "number_sections": true,
   "sideBar": true,
   "skip_h1_title": false,
   "title_cell": "Table of Contents",
   "title_sidebar": "Contents",
   "toc_cell": false,
   "toc_position": {},
   "toc_section_display": true,
   "toc_window_display": true
  },
  "varInspector": {
   "cols": {
    "lenName": 16,
    "lenType": 16,
    "lenVar": 40
   },
   "kernels_config": {
    "python": {
     "delete_cmd_postfix": "",
     "delete_cmd_prefix": "del ",
     "library": "var_list.py",
     "varRefreshCmd": "print(var_dic_list())"
    },
    "r": {
     "delete_cmd_postfix": ") ",
     "delete_cmd_prefix": "rm(",
     "library": "var_list.r",
     "varRefreshCmd": "cat(var_dic_list()) "
    }
   },
   "types_to_exclude": [
    "module",
    "function",
    "builtin_function_or_method",
    "instance",
    "_Feature"
   ],
   "window_display": false
  }
 },
 "nbformat": 4,
 "nbformat_minor": 2
}
